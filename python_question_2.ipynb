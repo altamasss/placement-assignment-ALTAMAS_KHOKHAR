{
  "nbformat": 4,
  "nbformat_minor": 0,
  "metadata": {
    "colab": {
      "provenance": []
    },
    "kernelspec": {
      "name": "python3",
      "display_name": "Python 3"
    },
    "language_info": {
      "name": "python"
    }
  },
  "cells": [
    {
      "cell_type": "markdown",
      "source": [
        "2. Consider a string to be valid if all characters of the string appear the same number of times. It is also valid if he can remove just one character at the index in the string, and the remaining characters will occur the same number of times. Given a string, determine if it is valid. If so, return YES , otherwise return NO ."
      ],
      "metadata": {
        "id": "1VGeraV05_f4"
      }
    },
    {
      "cell_type": "code",
      "execution_count": null,
      "metadata": {
        "colab": {
          "base_uri": "https://localhost:8080/"
        },
        "id": "LVEwHdaEcQ_U",
        "outputId": "700824b3-7f90-47dd-dc25-c5151fd274bb"
      },
      "outputs": [
        {
          "output_type": "stream",
          "name": "stdout",
          "text": [
            "YES\n",
            "Explanation: All characters appear the same number of times (frequency of 1). So, the string is valid. The output should be 'YES'.\n",
            "==================================================\n",
            "NO\n",
            "Explanation: We can remove only 1 occurrence of 'c' to make all frequencies the same (frequency of 1). However, if we remove 2 occurrences of 'c', the frequency becomes 2. So, the string is not valid. The output should be 'NO'.\n",
            "==================================================\n",
            "YES\n",
            "Explanation: All characters appear the same number of times (frequency of 2). So, the string is valid. The output should be 'YES'.\n",
            "==================================================\n",
            "YES\n",
            "Explanation: We can remove 1 occurrence of 'c' to make all frequencies the same (frequency of 2). So, the string is valid. The output should be 'YES'.\n"
          ]
        }
      ],
      "source": [
        "from collections import Counter\n",
        "\n",
        "def is_valid_string(s):\n",
        "    try:\n",
        "        # Count the frequency of each character in the string\n",
        "        char_counts = Counter(s)\n",
        "\n",
        "        # Count the frequency of frequencies\n",
        "        frequency_counts = Counter(char_counts.values())\n",
        "\n",
        "        # If all frequencies are the same or there is only one character with a frequency of one\n",
        "        if len(frequency_counts) == 1 or (len(frequency_counts) == 2 and frequency_counts[1] == 1):\n",
        "            return \"YES\"\n",
        "        else:\n",
        "            return \"NO\"\n",
        "    except Exception as e:\n",
        "        print(\"An error occurred:\", str(e))\n",
        "        return \"NO\"\n",
        "\n",
        "# Test Case 1\n",
        "input_string1 = \"abc\"\n",
        "result1 = is_valid_string(input_string1)\n",
        "print(result1)\n",
        "print(\"Explanation: All characters appear the same number of times (frequency of 1). So, the string is valid. The output should be 'YES'.\")\n",
        "print(\"=\"*50)\n",
        "# Test Case 2\n",
        "input_string2 = \"abccc\"\n",
        "result2 = is_valid_string(input_string2)\n",
        "print(result2)\n",
        "print(\"Explanation: We can remove only 1 occurrence of 'c' to make all frequencies the same (frequency of 1). However, if we remove 2 occurrences of 'c', the frequency becomes 2. So, the string is not valid. The output should be 'NO'.\")\n",
        "print(\"=\"*50)\n",
        "# Test Case 3\n",
        "input_string3 = \"aabbcc\"\n",
        "result3 = is_valid_string(input_string3)\n",
        "print(result3)\n",
        "print(\"Explanation: All characters appear the same number of times (frequency of 2). So, the string is valid. The output should be 'YES'.\")\n",
        "print(\"=\"*50)\n",
        "# Test Case 4\n",
        "input_string4 = \"aabbc\"\n",
        "# Explanation: We can remove 1 occurrence of \"c\" to make all frequencies the same (frequency of 2).\n",
        "# So, the string is valid. The output should be \"YES\".\n",
        "result4 = is_valid_string(input_string3)\n",
        "print(result3)\n",
        "print(\"Explanation: We can remove 1 occurrence of 'c' to make all frequencies the same (frequency of 2). So, the string is valid. The output should be 'YES'.\")"
      ]
    },
    {
      "cell_type": "markdown",
      "source": [],
      "metadata": {
        "id": "8a3vMrRJcdIZ"
      }
    }
  ]
}