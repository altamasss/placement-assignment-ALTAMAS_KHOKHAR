{
  "nbformat": 4,
  "nbformat_minor": 0,
  "metadata": {
    "colab": {
      "provenance": []
    },
    "kernelspec": {
      "name": "python3",
      "display_name": "Python 3"
    },
    "language_info": {
      "name": "python"
    }
  },
  "cells": [
    {
      "cell_type": "markdown",
      "source": [
        "10. Write a program to count the number of verbs, nouns, pronouns, and adjectives in a given particular phrase or paragraph, and return their respective count as a dictionary.\n",
        "Note -\n",
        "\n",
        ". Write code comments wherever required for code\n",
        "\n",
        ". You have to write at least 2 additional test cases in which your program will run successfully and provide an explanation for the same"
      ],
      "metadata": {
        "id": "3Gcsw1v73IP_"
      }
    },
    {
      "cell_type": "code",
      "source": [
        "import nltk\n",
        "nltk.download('punkt')\n"
      ],
      "metadata": {
        "colab": {
          "base_uri": "https://localhost:8080/"
        },
        "id": "t1rCovGl3-2H",
        "outputId": "b7fc1052-fd23-4b45-a725-b1d824e2fc57"
      },
      "execution_count": 5,
      "outputs": [
        {
          "output_type": "stream",
          "name": "stderr",
          "text": [
            "[nltk_data] Downloading package punkt to /root/nltk_data...\n",
            "[nltk_data]   Unzipping tokenizers/punkt.zip.\n"
          ]
        },
        {
          "output_type": "execute_result",
          "data": {
            "text/plain": [
              "True"
            ]
          },
          "metadata": {},
          "execution_count": 5
        }
      ]
    },
    {
      "cell_type": "code",
      "source": [
        "import nltk\n",
        "nltk.download('averaged_perceptron_tagger')\n"
      ],
      "metadata": {
        "colab": {
          "base_uri": "https://localhost:8080/"
        },
        "id": "Ltp27A494fMG",
        "outputId": "faec1580-15ff-47cf-e32b-d637396d85ec"
      },
      "execution_count": 7,
      "outputs": [
        {
          "output_type": "stream",
          "name": "stderr",
          "text": [
            "[nltk_data] Downloading package averaged_perceptron_tagger to\n",
            "[nltk_data]     /root/nltk_data...\n",
            "[nltk_data]   Unzipping taggers/averaged_perceptron_tagger.zip.\n"
          ]
        },
        {
          "output_type": "execute_result",
          "data": {
            "text/plain": [
              "True"
            ]
          },
          "metadata": {},
          "execution_count": 7
        }
      ]
    },
    {
      "cell_type": "code",
      "source": [
        "import nltk\n",
        "from nltk import pos_tag\n",
        "from nltk.tokenize import word_tokenize\n",
        "\n",
        "\n",
        "def count_pos_tags(text):\n",
        "    # Tokenize the text into words\n",
        "    words = word_tokenize(text)\n",
        "\n",
        "    # Perform part-of-speech tagging\n",
        "    pos_tags = pos_tag(words)\n",
        "\n",
        "    # Initialize count variables\n",
        "    verb_count = 0\n",
        "    noun_count = 0\n",
        "    pronoun_count = 0\n",
        "    adjective_count = 0\n",
        "\n",
        "    # Count the number of each part-of-speech\n",
        "    for word, pos in pos_tags:\n",
        "        if pos.startswith('VB'):  # Verb\n",
        "            verb_count += 1\n",
        "        elif pos.startswith('NN'):  # Noun\n",
        "            noun_count += 1\n",
        "        elif pos.startswith('PRP'):  # Pronoun\n",
        "            pronoun_count += 1\n",
        "        elif pos.startswith('JJ'):  # Adjective\n",
        "            adjective_count += 1\n",
        "\n",
        "    # Create a dictionary of the counts\n",
        "    pos_counts = {\n",
        "        'Verbs': verb_count,\n",
        "        'Nouns': noun_count,\n",
        "        'Pronouns': pronoun_count,\n",
        "        'Adjectives': adjective_count\n",
        "    }\n",
        "\n",
        "    return pos_counts\n",
        "\n",
        "text1 = \"The cat chased the mouse and jumped over the fence.\"\n",
        "result1 = count_pos_tags(text1)\n",
        "print(\"text1\")\n",
        "print(result1)\n",
        "\n",
        "text2 = \"She walked along the sandy beach, feeling the warm sun on her face.\"\n",
        "result2 = count_pos_tags(text2)\n",
        "print(\"text2\")\n",
        "print(result2)\n",
        "\n",
        "text3 = \"The old man sat in his rocking chair, reminiscing about his youth.\"\n",
        "result3 = count_pos_tags(text3)\n",
        "print(\"text3\")\n",
        "print(result3)\n",
        "\n",
        "text4 = \"The quick brown fox jumps over the lazy dog\"\n",
        "result = count_pos_tags(text4)\n",
        "print(\"text4\")\n",
        "print(result)\n",
        "\n",
        "text5 = \"I love to play tennis. It is my favorite sport. The tennis court is beautiful, and the game is exciting.\"\n",
        "result = count_pos_tags(text5)\n",
        "print(\"text5\")\n",
        "print(result)\n",
        "\n",
        "text6 = \"The sun was shining on the sea, shining with all its might. It did its very best to make the billows smooth and bright.\"\n",
        "result = count_pos_tags(text6)\n",
        "print(\"text6\")\n",
        "print(result)\n"
      ],
      "metadata": {
        "colab": {
          "base_uri": "https://localhost:8080/"
        },
        "id": "vyW8Wb3R5JaO",
        "outputId": "d580cae1-4661-432c-fa82-eaae9f545d56"
      },
      "execution_count": 17,
      "outputs": [
        {
          "output_type": "stream",
          "name": "stdout",
          "text": [
            "text1\n",
            "{'Verbs': 2, 'Nouns': 3, 'Pronouns': 0, 'Adjectives': 0}\n",
            "text2\n",
            "{'Verbs': 2, 'Nouns': 3, 'Pronouns': 2, 'Adjectives': 2}\n",
            "text3\n",
            "{'Verbs': 2, 'Nouns': 4, 'Pronouns': 2, 'Adjectives': 1}\n",
            "text4\n",
            "{'Verbs': 1, 'Nouns': 3, 'Pronouns': 0, 'Adjectives': 2}\n",
            "text5\n",
            "{'Verbs': 6, 'Nouns': 5, 'Pronouns': 3, 'Adjectives': 2}\n",
            "text6\n",
            "{'Verbs': 5, 'Nouns': 4, 'Pronouns': 3, 'Adjectives': 2}\n"
          ]
        }
      ]
    },
    {
      "cell_type": "code",
      "source": [],
      "metadata": {
        "id": "KYMa_ees5ObH"
      },
      "execution_count": null,
      "outputs": []
    }
  ]
}