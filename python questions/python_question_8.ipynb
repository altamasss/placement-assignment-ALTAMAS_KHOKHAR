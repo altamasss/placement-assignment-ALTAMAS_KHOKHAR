{
 "cells": [
  {
   "cell_type": "raw",
   "id": "6f6b4c74-cbd9-4158-8e0a-55bf9d051f0a",
   "metadata": {},
   "source": [
    "8. Using the data from Question 5, write code the analyze the data and answer the following questions\n",
    "\n",
    "Note -\n",
    "1. Draw plots to demonstrate the analysis for the following questions and better visualizations\n",
    "2. Write code comments wherever required for code understanding\n",
    "\n",
    "Insights to be drawn -\n",
    "\n",
    "Get all the overall ratings for each season and using plots compare the ratings for all the seasons, like season 1 ratings, season 2, and so on.\n",
    "Get all the episode names, whose average rating is more than 8 for every season\n",
    "Get all the episode names that aired before May 2019\n",
    "Get the episode name from each season with the highest and lowest rating\n",
    "Get the summary for the most popular ( ratings ) episode in every season"
   ]
  },
  {
   "cell_type": "code",
   "execution_count": 1,
   "id": "adbefe7b-2f7b-45c8-b40e-1d4f0e0dd60b",
   "metadata": {},
   "outputs": [],
   "source": [
    "# Installing required packages\n",
    "\n",
    "import requests\n",
    "import json\n",
    "import pandas as pd\n",
    "import seaborn as sns\n",
    "import numpy as np\n",
    "import matplotlib.pyplot as plt\n",
    "import csv\n",
    "from datetime import datetime\n",
    "from bs4 import BeautifulSoup"
   ]
  },
  {
   "cell_type": "code",
   "execution_count": 2,
   "id": "6978801a-222a-476f-ba71-3b74873e3282",
   "metadata": {},
   "outputs": [],
   "source": [
    "# API endpoint\n",
    "url = \"http://api.tvmaze.com/singlesearch/shows?q=westworld&embed=episodes\"\n",
    "\n",
    "# Send GET request to the API\n",
    "response = requests.get(url)\n",
    "\n",
    "# Check if the request was successful\n",
    "if response.status_code == 200:\n",
    "    # Get the JSON data from the response\n",
    "    data = response.json()\n",
    "    \n",
    "    # Extract the episodes data\n",
    "    episodes = data[\"_embedded\"][\"episodes\"]\n",
    "    \n",
    "    # Initialize lists to store the extracted attributes\n",
    "    id_list = []\n",
    "    url_list = []\n",
    "    name_list = []\n",
    "    season_list = []\n",
    "    number_list = []\n",
    "    type_list = []\n",
    "    airdate_list = []\n",
    "    airtime_list = []\n",
    "    runtime_list = []\n",
    "    average_rating_list = []\n",
    "    summary_list = []\n",
    "    medium_image_link_list = []\n",
    "    original_image_link_list = []\n",
    "    \n",
    "    # Iterate over each episode and extract the required attributes\n",
    "    for episode in episodes:\n",
    "        id_list.append(episode[\"id\"])\n",
    "        url_list.append(episode[\"url\"])\n",
    "        name_list.append(episode[\"name\"])\n",
    "        season_list.append(episode[\"season\"])\n",
    "        number_list.append(episode[\"number\"])\n",
    "        type_list.append(episode[\"type\"])\n",
    "        \n",
    "        # Format the date in the desired format\n",
    "        airdate = datetime.strptime(episode[\"airdate\"], \"%Y-%m-%d\").date()\n",
    "        airdate_list.append(airdate)\n",
    "        \n",
    "        # Format the time in 12-hour format\n",
    "        airtime = datetime.strptime(episode[\"airtime\"], \"%H:%M\").strftime(\"%I:%M %p\")\n",
    "        airtime_list.append(airtime)\n",
    "        \n",
    "        runtime_list.append(episode[\"runtime\"])\n",
    "        average_rating_list.append(episode[\"rating\"][\"average\"])\n",
    "        \n",
    "        # Remove HTML tags from the summary\n",
    "        summary = episode[\"summary\"].replace(\"<p>\", \"\").replace(\"</p>\", \"\")\n",
    "        summary_list.append(summary)\n",
    "        \n",
    "        medium_image_link_list.append(episode[\"image\"][\"medium\"])\n",
    "        original_image_link_list.append(episode[\"image\"][\"original\"])\n",
    "        \n",
    "    # Create a dataframe from the extracted attributes\n",
    "    dataset = pd.DataFrame({\n",
    "        \"id\": id_list,\n",
    "        \"url\": url_list,\n",
    "        \"name\": name_list,\n",
    "        \"season\": season_list,\n",
    "        \"number\": number_list,\n",
    "        \"type\": type_list,\n",
    "        \"airdate\": airdate_list,\n",
    "        \"airtime\": airtime_list,\n",
    "        \"runtime\": runtime_list,\n",
    "        \"average rating\": average_rating_list,\n",
    "        \"summary\": summary_list,\n",
    "        \"medium image link\": medium_image_link_list,\n",
    "        \"original image link\": original_image_link_list\n",
    "    })\n",
    "else:\n",
    "    print(\"Error:\", response.status_code)\n"
   ]
  },
  {
   "cell_type": "code",
   "execution_count": 3,
   "id": "33bcac95-60c7-4401-9b38-f4ed72627a94",
   "metadata": {},
   "outputs": [
    {
     "data": {
      "text/html": [
       "<div>\n",
       "<style scoped>\n",
       "    .dataframe tbody tr th:only-of-type {\n",
       "        vertical-align: middle;\n",
       "    }\n",
       "\n",
       "    .dataframe tbody tr th {\n",
       "        vertical-align: top;\n",
       "    }\n",
       "\n",
       "    .dataframe thead th {\n",
       "        text-align: right;\n",
       "    }\n",
       "</style>\n",
       "<table border=\"1\" class=\"dataframe\">\n",
       "  <thead>\n",
       "    <tr style=\"text-align: right;\">\n",
       "      <th></th>\n",
       "      <th>id</th>\n",
       "      <th>url</th>\n",
       "      <th>name</th>\n",
       "      <th>season</th>\n",
       "      <th>number</th>\n",
       "      <th>type</th>\n",
       "      <th>airdate</th>\n",
       "      <th>airtime</th>\n",
       "      <th>runtime</th>\n",
       "      <th>average rating</th>\n",
       "      <th>summary</th>\n",
       "      <th>medium image link</th>\n",
       "      <th>original image link</th>\n",
       "    </tr>\n",
       "  </thead>\n",
       "  <tbody>\n",
       "    <tr>\n",
       "      <th>0</th>\n",
       "      <td>869671</td>\n",
       "      <td>https://www.tvmaze.com/episodes/869671/westwor...</td>\n",
       "      <td>The Original</td>\n",
       "      <td>1</td>\n",
       "      <td>1</td>\n",
       "      <td>regular</td>\n",
       "      <td>2016-10-02</td>\n",
       "      <td>09:00 PM</td>\n",
       "      <td>68</td>\n",
       "      <td>8.0</td>\n",
       "      <td>A woman named Dolores is a free spirit in the ...</td>\n",
       "      <td>https://static.tvmaze.com/uploads/images/mediu...</td>\n",
       "      <td>https://static.tvmaze.com/uploads/images/origi...</td>\n",
       "    </tr>\n",
       "    <tr>\n",
       "      <th>1</th>\n",
       "      <td>911201</td>\n",
       "      <td>https://www.tvmaze.com/episodes/911201/westwor...</td>\n",
       "      <td>Chestnut</td>\n",
       "      <td>1</td>\n",
       "      <td>2</td>\n",
       "      <td>regular</td>\n",
       "      <td>2016-10-09</td>\n",
       "      <td>09:00 PM</td>\n",
       "      <td>60</td>\n",
       "      <td>7.7</td>\n",
       "      <td>Bernard suspects that someone is sabotaging th...</td>\n",
       "      <td>https://static.tvmaze.com/uploads/images/mediu...</td>\n",
       "      <td>https://static.tvmaze.com/uploads/images/origi...</td>\n",
       "    </tr>\n",
       "  </tbody>\n",
       "</table>\n",
       "</div>"
      ],
      "text/plain": [
       "       id                                                url          name  \\\n",
       "0  869671  https://www.tvmaze.com/episodes/869671/westwor...  The Original   \n",
       "1  911201  https://www.tvmaze.com/episodes/911201/westwor...      Chestnut   \n",
       "\n",
       "   season  number     type     airdate   airtime  runtime  average rating  \\\n",
       "0       1       1  regular  2016-10-02  09:00 PM       68             8.0   \n",
       "1       1       2  regular  2016-10-09  09:00 PM       60             7.7   \n",
       "\n",
       "                                             summary  \\\n",
       "0  A woman named Dolores is a free spirit in the ...   \n",
       "1  Bernard suspects that someone is sabotaging th...   \n",
       "\n",
       "                                   medium image link  \\\n",
       "0  https://static.tvmaze.com/uploads/images/mediu...   \n",
       "1  https://static.tvmaze.com/uploads/images/mediu...   \n",
       "\n",
       "                                 original image link  \n",
       "0  https://static.tvmaze.com/uploads/images/origi...  \n",
       "1  https://static.tvmaze.com/uploads/images/origi...  "
      ]
     },
     "execution_count": 3,
     "metadata": {},
     "output_type": "execute_result"
    }
   ],
   "source": [
    "dataset.head(2)     # Top 2 records of the dataset"
   ]
  },
  {
   "cell_type": "raw",
   "id": "6143ca01-1cac-42f0-8ae6-7951564b5ed1",
   "metadata": {},
   "source": [
    "Get all the overall ratings for each season and using plots compare the ratings for all the seasons,\n",
    "like season 1 ratings, season 2, and so on."
   ]
  },
  {
   "cell_type": "code",
   "execution_count": 4,
   "id": "899783fe-bb33-42f6-b714-5dccb1dcfb36",
   "metadata": {},
   "outputs": [
    {
     "data": {
      "text/html": [
       "<div>\n",
       "<style scoped>\n",
       "    .dataframe tbody tr th:only-of-type {\n",
       "        vertical-align: middle;\n",
       "    }\n",
       "\n",
       "    .dataframe tbody tr th {\n",
       "        vertical-align: top;\n",
       "    }\n",
       "\n",
       "    .dataframe thead th {\n",
       "        text-align: right;\n",
       "    }\n",
       "</style>\n",
       "<table border=\"1\" class=\"dataframe\">\n",
       "  <thead>\n",
       "    <tr style=\"text-align: right;\">\n",
       "      <th></th>\n",
       "      <th>season</th>\n",
       "      <th>average rating</th>\n",
       "    </tr>\n",
       "  </thead>\n",
       "  <tbody>\n",
       "    <tr>\n",
       "      <th>0</th>\n",
       "      <td>1</td>\n",
       "      <td>8.0900</td>\n",
       "    </tr>\n",
       "    <tr>\n",
       "      <th>1</th>\n",
       "      <td>2</td>\n",
       "      <td>8.0000</td>\n",
       "    </tr>\n",
       "    <tr>\n",
       "      <th>2</th>\n",
       "      <td>3</td>\n",
       "      <td>7.7750</td>\n",
       "    </tr>\n",
       "    <tr>\n",
       "      <th>3</th>\n",
       "      <td>4</td>\n",
       "      <td>7.5375</td>\n",
       "    </tr>\n",
       "  </tbody>\n",
       "</table>\n",
       "</div>"
      ],
      "text/plain": [
       "   season  average rating\n",
       "0       1          8.0900\n",
       "1       2          8.0000\n",
       "2       3          7.7750\n",
       "3       4          7.5375"
      ]
     },
     "execution_count": 4,
     "metadata": {},
     "output_type": "execute_result"
    }
   ],
   "source": [
    "dataset.groupby(\"season\")[\"average rating\"].mean().reset_index()"
   ]
  },
  {
   "cell_type": "code",
   "execution_count": 5,
   "id": "bc8eb16d-c344-4a21-83da-24ddc691150d",
   "metadata": {},
   "outputs": [],
   "source": [
    "season_ratings = dataset.groupby(\"season\")[\"average rating\"].mean().reset_index()"
   ]
  },
  {
   "cell_type": "code",
   "execution_count": 6,
   "id": "6088a238-3d98-4bfc-952d-f66faa3b70ce",
   "metadata": {},
   "outputs": [
    {
     "data": {
      "image/png": "[encoded data removed]",
      "text/plain": [
       "<Figure size 1200x500 with 1 Axes>"
      ]
     },
     "metadata": {},
     "output_type": "display_data"
    }
   ],
   "source": [
    "# Plotting the ratings for each seasons\n",
    "\n",
    "plt.figure(figsize=(12, 5))\n",
    "plt.bar(season_ratings[\"season\"], season_ratings[\"average rating\"])\n",
    "plt.xlabel(\"Season\")\n",
    "plt.ylabel(\"Average Rating\")\n",
    "plt.title(\"Average Ratings for Each Season\")\n",
    "plt.show()"
   ]
  },
  {
   "cell_type": "raw",
   "id": "7029e5fa-bc97-4a1c-8c26-926ff9d022b0",
   "metadata": {},
   "source": [
    "Get all the episode names, whose average rating is more than 8 for every season."
   ]
  },
  {
   "cell_type": "code",
   "execution_count": 7,
   "id": "ffec6a25-fb33-40d6-bc0c-1cf15fed5ec0",
   "metadata": {},
   "outputs": [
    {
     "data": {
      "text/html": [
       "<div>\n",
       "<style scoped>\n",
       "    .dataframe tbody tr th:only-of-type {\n",
       "        vertical-align: middle;\n",
       "    }\n",
       "\n",
       "    .dataframe tbody tr th {\n",
       "        vertical-align: top;\n",
       "    }\n",
       "\n",
       "    .dataframe thead th {\n",
       "        text-align: right;\n",
       "    }\n",
       "</style>\n",
       "<table border=\"1\" class=\"dataframe\">\n",
       "  <thead>\n",
       "    <tr style=\"text-align: right;\">\n",
       "      <th></th>\n",
       "      <th>id</th>\n",
       "      <th>url</th>\n",
       "      <th>name</th>\n",
       "      <th>season</th>\n",
       "      <th>number</th>\n",
       "      <th>type</th>\n",
       "      <th>airdate</th>\n",
       "      <th>airtime</th>\n",
       "      <th>runtime</th>\n",
       "      <th>average rating</th>\n",
       "      <th>summary</th>\n",
       "      <th>medium image link</th>\n",
       "      <th>original image link</th>\n",
       "    </tr>\n",
       "  </thead>\n",
       "  <tbody>\n",
       "    <tr>\n",
       "      <th>6</th>\n",
       "      <td>938404</td>\n",
       "      <td>https://www.tvmaze.com/episodes/938404/westwor...</td>\n",
       "      <td>Trompe L'Oeil</td>\n",
       "      <td>1</td>\n",
       "      <td>7</td>\n",
       "      <td>regular</td>\n",
       "      <td>2016-11-13</td>\n",
       "      <td>09:00 PM</td>\n",
       "      <td>60</td>\n",
       "      <td>8.6</td>\n",
       "      <td>While William and Dolores travel to the unclai...</td>\n",
       "      <td>https://static.tvmaze.com/uploads/images/mediu...</td>\n",
       "      <td>https://static.tvmaze.com/uploads/images/origi...</td>\n",
       "    </tr>\n",
       "    <tr>\n",
       "      <th>8</th>\n",
       "      <td>943066</td>\n",
       "      <td>https://www.tvmaze.com/episodes/943066/westwor...</td>\n",
       "      <td>The Well-Tempered Clavier</td>\n",
       "      <td>1</td>\n",
       "      <td>9</td>\n",
       "      <td>regular</td>\n",
       "      <td>2016-11-27</td>\n",
       "      <td>09:00 PM</td>\n",
       "      <td>60</td>\n",
       "      <td>8.5</td>\n",
       "      <td>Bernard forces Robert to take him back into hi...</td>\n",
       "      <td>https://static.tvmaze.com/uploads/images/mediu...</td>\n",
       "      <td>https://static.tvmaze.com/uploads/images/origi...</td>\n",
       "    </tr>\n",
       "    <tr>\n",
       "      <th>9</th>\n",
       "      <td>943067</td>\n",
       "      <td>https://www.tvmaze.com/episodes/943067/westwor...</td>\n",
       "      <td>The Bicameral Mind</td>\n",
       "      <td>1</td>\n",
       "      <td>10</td>\n",
       "      <td>regular</td>\n",
       "      <td>2016-12-04</td>\n",
       "      <td>09:00 PM</td>\n",
       "      <td>90</td>\n",
       "      <td>8.7</td>\n",
       "      <td>Delores finds out the truth about William's fa...</td>\n",
       "      <td>https://static.tvmaze.com/uploads/images/mediu...</td>\n",
       "      <td>https://static.tvmaze.com/uploads/images/origi...</td>\n",
       "    </tr>\n",
       "    <tr>\n",
       "      <th>17</th>\n",
       "      <td>1459788</td>\n",
       "      <td>https://www.tvmaze.com/episodes/1459788/westwo...</td>\n",
       "      <td>Kiksuya</td>\n",
       "      <td>2</td>\n",
       "      <td>8</td>\n",
       "      <td>regular</td>\n",
       "      <td>2018-06-10</td>\n",
       "      <td>09:00 PM</td>\n",
       "      <td>60</td>\n",
       "      <td>8.7</td>\n",
       "      <td>Another of Westworld's Host revolutionaries is...</td>\n",
       "      <td>https://static.tvmaze.com/uploads/images/mediu...</td>\n",
       "      <td>https://static.tvmaze.com/uploads/images/origi...</td>\n",
       "    </tr>\n",
       "    <tr>\n",
       "      <th>18</th>\n",
       "      <td>1459789</td>\n",
       "      <td>https://www.tvmaze.com/episodes/1459789/westwo...</td>\n",
       "      <td>Vanishing Point</td>\n",
       "      <td>2</td>\n",
       "      <td>9</td>\n",
       "      <td>regular</td>\n",
       "      <td>2018-06-17</td>\n",
       "      <td>09:00 PM</td>\n",
       "      <td>60</td>\n",
       "      <td>8.4</td>\n",
       "      <td>The Man learns that his grip on reality isn't ...</td>\n",
       "      <td>https://static.tvmaze.com/uploads/images/mediu...</td>\n",
       "      <td>https://static.tvmaze.com/uploads/images/origi...</td>\n",
       "    </tr>\n",
       "    <tr>\n",
       "      <th>19</th>\n",
       "      <td>1459790</td>\n",
       "      <td>https://www.tvmaze.com/episodes/1459790/westwo...</td>\n",
       "      <td>The Passenger</td>\n",
       "      <td>2</td>\n",
       "      <td>10</td>\n",
       "      <td>regular</td>\n",
       "      <td>2018-06-24</td>\n",
       "      <td>09:00 PM</td>\n",
       "      <td>90</td>\n",
       "      <td>8.5</td>\n",
       "      <td>The Man faces a personal reckoning, while Akec...</td>\n",
       "      <td>https://static.tvmaze.com/uploads/images/mediu...</td>\n",
       "      <td>https://static.tvmaze.com/uploads/images/origi...</td>\n",
       "    </tr>\n",
       "  </tbody>\n",
       "</table>\n",
       "</div>"
      ],
      "text/plain": [
       "         id                                                url  \\\n",
       "6    938404  https://www.tvmaze.com/episodes/938404/westwor...   \n",
       "8    943066  https://www.tvmaze.com/episodes/943066/westwor...   \n",
       "9    943067  https://www.tvmaze.com/episodes/943067/westwor...   \n",
       "17  1459788  https://www.tvmaze.com/episodes/1459788/westwo...   \n",
       "18  1459789  https://www.tvmaze.com/episodes/1459789/westwo...   \n",
       "19  1459790  https://www.tvmaze.com/episodes/1459790/westwo...   \n",
       "\n",
       "                         name  season  number     type     airdate   airtime  \\\n",
       "6               Trompe L'Oeil       1       7  regular  2016-11-13  09:00 PM   \n",
       "8   The Well-Tempered Clavier       1       9  regular  2016-11-27  09:00 PM   \n",
       "9          The Bicameral Mind       1      10  regular  2016-12-04  09:00 PM   \n",
       "17                    Kiksuya       2       8  regular  2018-06-10  09:00 PM   \n",
       "18            Vanishing Point       2       9  regular  2018-06-17  09:00 PM   \n",
       "19              The Passenger       2      10  regular  2018-06-24  09:00 PM   \n",
       "\n",
       "    runtime  average rating  \\\n",
       "6        60             8.6   \n",
       "8        60             8.5   \n",
       "9        90             8.7   \n",
       "17       60             8.7   \n",
       "18       60             8.4   \n",
       "19       90             8.5   \n",
       "\n",
       "                                              summary  \\\n",
       "6   While William and Dolores travel to the unclai...   \n",
       "8   Bernard forces Robert to take him back into hi...   \n",
       "9   Delores finds out the truth about William's fa...   \n",
       "17  Another of Westworld's Host revolutionaries is...   \n",
       "18  The Man learns that his grip on reality isn't ...   \n",
       "19  The Man faces a personal reckoning, while Akec...   \n",
       "\n",
       "                                    medium image link  \\\n",
       "6   https://static.tvmaze.com/uploads/images/mediu...   \n",
       "8   https://static.tvmaze.com/uploads/images/mediu...   \n",
       "9   https://static.tvmaze.com/uploads/images/mediu...   \n",
       "17  https://static.tvmaze.com/uploads/images/mediu...   \n",
       "18  https://static.tvmaze.com/uploads/images/mediu...   \n",
       "19  https://static.tvmaze.com/uploads/images/mediu...   \n",
       "\n",
       "                                  original image link  \n",
       "6   https://static.tvmaze.com/uploads/images/origi...  \n",
       "8   https://static.tvmaze.com/uploads/images/origi...  \n",
       "9   https://static.tvmaze.com/uploads/images/origi...  \n",
       "17  https://static.tvmaze.com/uploads/images/origi...  \n",
       "18  https://static.tvmaze.com/uploads/images/origi...  \n",
       "19  https://static.tvmaze.com/uploads/images/origi...  "
      ]
     },
     "execution_count": 7,
     "metadata": {},
     "output_type": "execute_result"
    }
   ],
   "source": [
    "dataset[dataset['average rating'] > 8]"
   ]
  },
  {
   "cell_type": "code",
   "execution_count": 8,
   "id": "f4fb2a57-9086-4e2d-8e30-444bf2384833",
   "metadata": {},
   "outputs": [],
   "source": [
    "episodes_more_than_8 = dataset[dataset['average rating'] > 8]"
   ]
  },
  {
   "cell_type": "code",
   "execution_count": 9,
   "id": "fb3bfdd4-5c6b-4a1f-ab6f-9373025c7005",
   "metadata": {},
   "outputs": [],
   "source": [
    "episodes_more_than_8  = episodes_more_than_8.groupby('season')['name'].apply(list)"
   ]
  },
  {
   "cell_type": "code",
   "execution_count": 10,
   "id": "c003f81c-68e0-4270-8b6f-28fd50473804",
   "metadata": {},
   "outputs": [
    {
     "name": "stdout",
     "output_type": "stream",
     "text": [
      "Season 1: [\"Trompe L'Oeil\", 'The Well-Tempered Clavier', 'The Bicameral Mind']\n",
      "Season 2: ['Kiksuya', 'Vanishing Point', 'The Passenger']\n"
     ]
    }
   ],
   "source": [
    "for i, j in episodes_more_than_8.items():\n",
    "    print(f\"Season {i}: {j}\")"
   ]
  },
  {
   "cell_type": "raw",
   "id": "2c6f093f-67f5-47b4-9e58-e202570eb7cd",
   "metadata": {},
   "source": [
    "Get all the episode names that aired before May 2019"
   ]
  },
  {
   "cell_type": "code",
   "execution_count": 11,
   "id": "ef92cc9f-d1e3-4d6c-8d2d-8a023951d5cf",
   "metadata": {},
   "outputs": [
    {
     "name": "stdout",
     "output_type": "stream",
     "text": [
      "The Original\n",
      "Chestnut\n",
      "The Stray\n",
      "Dissonance Theory\n",
      "Contrapasso\n",
      "The Adversary\n",
      "Trompe L'Oeil\n",
      "Trace Decay\n",
      "The Well-Tempered Clavier\n",
      "The Bicameral Mind\n",
      "Journey Into Night\n",
      "Reunion\n",
      "Virtù e Fortuna\n",
      "The Riddle of the Sphinx\n",
      "Akane No Mai\n",
      "Phase Space\n",
      "Les Écorchés\n",
      "Kiksuya\n",
      "Vanishing Point\n",
      "The Passenger\n"
     ]
    }
   ],
   "source": [
    "episode_names_2019 = []\n",
    "\n",
    "# Iterating over each episode and extracting the required attributes\n",
    "for episode in episodes:\n",
    "    airdate = episode[\"airdate\"]\n",
    "    episode_name = episode[\"name\"]\n",
    "    \n",
    "    # Checking if the episode aired before May 2019\n",
    "    if airdate < \"2019-05-01\":\n",
    "        episode_names_2019.append(episode_name)\n",
    "\n",
    "# Displaying the episode names that aired before May 2019\n",
    "for name in episode_names_2019:\n",
    "    print(name)"
   ]
  },
  {
   "cell_type": "raw",
   "id": "5f25c855-5305-45b8-a90f-6f6b557c5143",
   "metadata": {},
   "source": [
    "Get the episode name from each season with the highest and lowest rating"
   ]
  },
  {
   "cell_type": "code",
   "execution_count": 12,
   "id": "ded9b640-c7c0-432a-9e71-455b2cce3db3",
   "metadata": {},
   "outputs": [
    {
     "data": {
      "text/plain": [
       "season\n",
       "1     9\n",
       "2    17\n",
       "3    20\n",
       "4    32\n",
       "Name: average rating, dtype: int64"
      ]
     },
     "execution_count": 12,
     "metadata": {},
     "output_type": "execute_result"
    }
   ],
   "source": [
    "dataset.groupby('season')['average rating'].idxmax()"
   ]
  },
  {
   "cell_type": "code",
   "execution_count": 13,
   "id": "e0975d9c-bea2-469e-856f-7cdff7248928",
   "metadata": {},
   "outputs": [],
   "source": [
    "highest = dataset.groupby('season')['average rating'].idxmax()"
   ]
  },
  {
   "cell_type": "code",
   "execution_count": 14,
   "id": "5b7971b8-8032-404b-b09d-8f266e396df2",
   "metadata": {},
   "outputs": [
    {
     "data": {
      "text/plain": [
       "season\n",
       "1     9\n",
       "2    17\n",
       "3    20\n",
       "4    32\n",
       "Name: average rating, dtype: int64"
      ]
     },
     "execution_count": 14,
     "metadata": {},
     "output_type": "execute_result"
    }
   ],
   "source": [
    "highest"
   ]
  },
  {
   "cell_type": "code",
   "execution_count": 15,
   "id": "97470978-a3ab-419a-a9c3-63541e152eee",
   "metadata": {},
   "outputs": [
    {
     "name": "stdout",
     "output_type": "stream",
     "text": [
      "Episode Name with Highest Rating \n",
      "\n",
      "Season 1 : The Bicameral Mind\n",
      "Season 2 : Kiksuya\n",
      "Season 3 : Parce Domine\n",
      "Season 4 : Zhuangzi\n"
     ]
    }
   ],
   "source": [
    "print(\"Episode Name with Highest Rating \\n\")\n",
    "for i, j in highest.items():\n",
    "    print(f\"Season {i} : {dataset.loc[j, 'name']}\")"
   ]
  },
  {
   "cell_type": "code",
   "execution_count": 16,
   "id": "c54ea2a5-c5ba-4a0f-8c19-96fa78911a2c",
   "metadata": {},
   "outputs": [
    {
     "data": {
      "text/plain": [
       "season\n",
       "1     2\n",
       "2    14\n",
       "3    25\n",
       "4    28\n",
       "Name: average rating, dtype: int64"
      ]
     },
     "execution_count": 16,
     "metadata": {},
     "output_type": "execute_result"
    }
   ],
   "source": [
    "dataset.groupby('season')['average rating'].idxmin()"
   ]
  },
  {
   "cell_type": "code",
   "execution_count": 17,
   "id": "11581998-e320-4edc-83b0-6b0abd6278ad",
   "metadata": {},
   "outputs": [],
   "source": [
    "lowest = dataset.groupby('season')['average rating'].idxmin()"
   ]
  },
  {
   "cell_type": "code",
   "execution_count": 18,
   "id": "4395a35a-f116-40c8-ba75-a830c410142d",
   "metadata": {},
   "outputs": [
    {
     "name": "stdout",
     "output_type": "stream",
     "text": [
      "Episode Name with Lowest Rating : \n",
      " \n",
      "Season 1 : The Stray\n",
      "Season 2 : Akane No Mai\n",
      "Season 3 : Decoherence\n",
      "Season 4 : The Auguries\n"
     ]
    }
   ],
   "source": [
    "print(\"Episode Name with Lowest Rating : \\n \")\n",
    "for i, j in lowest.items():\n",
    "    print(f\"Season {i} : {dataset.loc[j, 'name']}\")"
   ]
  },
  {
   "cell_type": "code",
   "execution_count": 19,
   "id": "b0ce98b4-97dc-4d11-8ef7-09f6f39c0806",
   "metadata": {},
   "outputs": [
    {
     "data": {
      "text/plain": [
       "season\n",
       "1     9\n",
       "2    17\n",
       "3    20\n",
       "4    32\n",
       "Name: average rating, dtype: int64"
      ]
     },
     "execution_count": 19,
     "metadata": {},
     "output_type": "execute_result"
    }
   ],
   "source": [
    "dataset.groupby('season')['average rating'].idxmax()"
   ]
  },
  {
   "cell_type": "code",
   "execution_count": 22,
   "id": "ecfd677e-e270-4d34-ad40-723f2df64a7c",
   "metadata": {},
   "outputs": [],
   "source": [
    "most_popular = dataset.groupby('season')['average rating'].idxmax()"
   ]
  },
  {
   "cell_type": "code",
   "execution_count": 24,
   "id": "a492add6-4693-42fe-8034-629b1fcbecc0",
   "metadata": {},
   "outputs": [
    {
     "name": "stdout",
     "output_type": "stream",
     "text": [
      "- Summary for the most popular episode in season 1:\n",
      "Delores finds out the truth about William's fate. Meanwhile, Maeve organizes an escape plan, only to discover that someone else is pulling the strings. And Robert plays the final piece in his grand narrative.\n",
      "---------------------------------------------------------------------------------------------------------\n",
      "- Summary for the most popular episode in season 2:\n",
      "Another of Westworld's Host revolutionaries is revealed. Meanwhile, Emily finds the Man and convinces the Ghost Nation to hand him over to her to ensure his suffering.\n",
      "---------------------------------------------------------------------------------------------------------\n",
      "- Summary for the most popular episode in season 3:\n",
      "If you're stuck in a loop, try walking in a straight line.\n",
      "---------------------------------------------------------------------------------------------------------\n",
      "- Summary for the most popular episode in season 4:\n",
      "God is bored.\n",
      "---------------------------------------------------------------------------------------------------------\n"
     ]
    }
   ],
   "source": [
    "for i, j in most_popular.items():\n",
    "    print(f\"- Summary for the most popular episode in season {i}:\")\n",
    "    print(dataset.loc[j, 'summary'])\n",
    "    print(\"---------------------------------------------------------------------------------------------------------\")"
   ]
  },
  {
   "cell_type": "code",
   "execution_count": null,
   "id": "6321cf84-ac9b-4779-9112-d955245c8587",
   "metadata": {},
   "outputs": [],
   "source": []
  }
 ],
 "metadata": {
  "kernelspec": {
   "display_name": "Python 3 (ipykernel)",
   "language": "python",
   "name": "python3"
  },
  "language_info": {
   "codemirror_mode": {
    "name": "ipython",
    "version": 3
   },
   "file_extension": ".py",
   "mimetype": "text/x-python",
   "name": "python",
   "nbconvert_exporter": "python",
   "pygments_lexer": "ipython3",
   "version": "3.10.6"
  }
 },
 "nbformat": 4,
 "nbformat_minor": 5
}
