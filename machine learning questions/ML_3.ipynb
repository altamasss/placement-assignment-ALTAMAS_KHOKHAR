{
 "cells": [
  {
   "cell_type": "code",
   "execution_count": 38,
   "id": "2af68366",
   "metadata": {},
   "outputs": [],
   "source": [
    "import pandas as pd\n",
    "from sklearn.feature_extraction.text import TfidfVectorizer\n",
    "from sklearn.metrics.pairwise import cosine_similarity, euclidean_distances, manhattan_distances"
   ]
  },
  {
   "cell_type": "code",
   "execution_count": 39,
   "id": "a89a9dd5",
   "metadata": {},
   "outputs": [],
   "source": [
    "data = pd.read_json(\"C:\\\\Users\\\\altam\\\\Downloads\\\\machine learning questions\\\\ML 3\\\\archive 3\\\\News_Category_Dataset_v3.json\", lines=True)"
   ]
  },
  {
   "cell_type": "code",
   "execution_count": 40,
   "id": "eac78d54",
   "metadata": {},
   "outputs": [
    {
     "data": {
      "text/html": [
       "<div>\n",
       "<style scoped>\n",
       "    .dataframe tbody tr th:only-of-type {\n",
       "        vertical-align: middle;\n",
       "    }\n",
       "\n",
       "    .dataframe tbody tr th {\n",
       "        vertical-align: top;\n",
       "    }\n",
       "\n",
       "    .dataframe thead th {\n",
       "        text-align: right;\n",
       "    }\n",
       "</style>\n",
       "<table border=\"1\" class=\"dataframe\">\n",
       "  <thead>\n",
       "    <tr style=\"text-align: right;\">\n",
       "      <th></th>\n",
       "      <th>link</th>\n",
       "      <th>headline</th>\n",
       "      <th>category</th>\n",
       "      <th>short_description</th>\n",
       "      <th>authors</th>\n",
       "      <th>date</th>\n",
       "    </tr>\n",
       "  </thead>\n",
       "  <tbody>\n",
       "    <tr>\n",
       "      <th>0</th>\n",
       "      <td>https://www.huffpost.com/entry/covid-boosters-...</td>\n",
       "      <td>Over 4 Million Americans Roll Up Sleeves For O...</td>\n",
       "      <td>U.S. NEWS</td>\n",
       "      <td>Health experts said it is too early to predict...</td>\n",
       "      <td>Carla K. Johnson, AP</td>\n",
       "      <td>2022-09-23</td>\n",
       "    </tr>\n",
       "    <tr>\n",
       "      <th>1</th>\n",
       "      <td>https://www.huffpost.com/entry/american-airlin...</td>\n",
       "      <td>American Airlines Flyer Charged, Banned For Li...</td>\n",
       "      <td>U.S. NEWS</td>\n",
       "      <td>He was subdued by passengers and crew when he ...</td>\n",
       "      <td>Mary Papenfuss</td>\n",
       "      <td>2022-09-23</td>\n",
       "    </tr>\n",
       "    <tr>\n",
       "      <th>2</th>\n",
       "      <td>https://www.huffpost.com/entry/funniest-tweets...</td>\n",
       "      <td>23 Of The Funniest Tweets About Cats And Dogs ...</td>\n",
       "      <td>COMEDY</td>\n",
       "      <td>\"Until you have a dog you don't understand wha...</td>\n",
       "      <td>Elyse Wanshel</td>\n",
       "      <td>2022-09-23</td>\n",
       "    </tr>\n",
       "    <tr>\n",
       "      <th>3</th>\n",
       "      <td>https://www.huffpost.com/entry/funniest-parent...</td>\n",
       "      <td>The Funniest Tweets From Parents This Week (Se...</td>\n",
       "      <td>PARENTING</td>\n",
       "      <td>\"Accidentally put grown-up toothpaste on my to...</td>\n",
       "      <td>Caroline Bologna</td>\n",
       "      <td>2022-09-23</td>\n",
       "    </tr>\n",
       "    <tr>\n",
       "      <th>4</th>\n",
       "      <td>https://www.huffpost.com/entry/amy-cooper-lose...</td>\n",
       "      <td>Woman Who Called Cops On Black Bird-Watcher Lo...</td>\n",
       "      <td>U.S. NEWS</td>\n",
       "      <td>Amy Cooper accused investment firm Franklin Te...</td>\n",
       "      <td>Nina Golgowski</td>\n",
       "      <td>2022-09-22</td>\n",
       "    </tr>\n",
       "  </tbody>\n",
       "</table>\n",
       "</div>"
      ],
      "text/plain": [
       "                                                link  \\\n",
       "0  https://www.huffpost.com/entry/covid-boosters-...   \n",
       "1  https://www.huffpost.com/entry/american-airlin...   \n",
       "2  https://www.huffpost.com/entry/funniest-tweets...   \n",
       "3  https://www.huffpost.com/entry/funniest-parent...   \n",
       "4  https://www.huffpost.com/entry/amy-cooper-lose...   \n",
       "\n",
       "                                            headline   category  \\\n",
       "0  Over 4 Million Americans Roll Up Sleeves For O...  U.S. NEWS   \n",
       "1  American Airlines Flyer Charged, Banned For Li...  U.S. NEWS   \n",
       "2  23 Of The Funniest Tweets About Cats And Dogs ...     COMEDY   \n",
       "3  The Funniest Tweets From Parents This Week (Se...  PARENTING   \n",
       "4  Woman Who Called Cops On Black Bird-Watcher Lo...  U.S. NEWS   \n",
       "\n",
       "                                   short_description               authors  \\\n",
       "0  Health experts said it is too early to predict...  Carla K. Johnson, AP   \n",
       "1  He was subdued by passengers and crew when he ...        Mary Papenfuss   \n",
       "2  \"Until you have a dog you don't understand wha...         Elyse Wanshel   \n",
       "3  \"Accidentally put grown-up toothpaste on my to...      Caroline Bologna   \n",
       "4  Amy Cooper accused investment firm Franklin Te...        Nina Golgowski   \n",
       "\n",
       "        date  \n",
       "0 2022-09-23  \n",
       "1 2022-09-23  \n",
       "2 2022-09-23  \n",
       "3 2022-09-23  \n",
       "4 2022-09-22  "
      ]
     },
     "execution_count": 40,
     "metadata": {},
     "output_type": "execute_result"
    }
   ],
   "source": [
    "data.head()"
   ]
  },
  {
   "cell_type": "code",
   "execution_count": 41,
   "id": "6268e893",
   "metadata": {},
   "outputs": [],
   "source": [
    "# taking required columns to check similarity\n",
    "data = data[['category', 'headline', 'short_description']]\n",
    "     \n",
    "\n",
    "# preprocessing the data \n",
    "data['text'] = data['headline'] + ' ' + data['short_description']\n",
    "     \n",
    "\n",
    "# vectorizing the text data\n",
    "vectorizer = TfidfVectorizer()\n",
    "X = vectorizer.fit_transform(data['text'])"
   ]
  },
  {
   "cell_type": "code",
   "execution_count": 42,
   "id": "1799bfb1",
   "metadata": {},
   "outputs": [],
   "source": [
    "# define function to find similar data\n",
    "def find_similar_data(text, top_n=5):\n",
    "    \n",
    "    text_vector = vectorizer.transform([text])\n",
    "\n",
    "    # Calculate similarities using different algorithms\n",
    "    cosine_s = cosine_similarity(X, text_vector).flatten()\n",
    "    euclidean_s = euclidean_distances(X, text_vector).flatten()\n",
    "    manhattan_s = manhattan_distances(X, text_vector).flatten()\n",
    "\n",
    "\n",
    "    # Combine similarities from different algorithms\n",
    "    similarity_scores = (cosine_s + euclidean_s + manhattan_s ) / 4\n",
    "\n",
    "    # Find the indices of top similar data points\n",
    "    top_indices = similarity_scores.argsort()[-top_n:][::-1]\n",
    "\n",
    "    # Return the top similar data points\n",
    "    similar_data = data.iloc[top_indices]\n",
    "\n",
    "    return similar_data"
   ]
  },
  {
   "cell_type": "code",
   "execution_count": 43,
   "id": "17614534",
   "metadata": {},
   "outputs": [
    {
     "name": "stdout",
     "output_type": "stream",
     "text": [
      "         category                          headline  \\\n",
      "109802  WORLDPOST  Weekend Roundup: Laughing at God   \n",
      "66816    POLITICS                    Sunday Roundup   \n",
      "63109    POLITICS                    Sunday Roundup   \n",
      "107893   POLITICS                    Sunday Roundup   \n",
      "72892    POLITICS                    Sunday Roundup   \n",
      "\n",
      "                                        short_description  \\\n",
      "109802  The first principle of an open society is not ...   \n",
      "66816   This week the nation watched as the #NeverTrum...   \n",
      "63109   This week, the nation was reminded, in ways bo...   \n",
      "107893  This week began with \"The Horrible Call\" final...   \n",
      "72892   This week the GOP debate circus pulled into Mi...   \n",
      "\n",
      "                                                     text  \n",
      "109802  Weekend Roundup: Laughing at God The first pri...  \n",
      "66816   Sunday Roundup This week the nation watched as...  \n",
      "63109   Sunday Roundup This week, the nation was remin...  \n",
      "107893  Sunday Roundup This week began with \"The Horri...  \n",
      "72892   Sunday Roundup This week the GOP debate circus...  \n"
     ]
    }
   ],
   "source": [
    "text = \"batman\"\n",
    "similar_data = find_similar_data(text)\n",
    "print(similar_data)"
   ]
  },
  {
   "cell_type": "code",
   "execution_count": null,
   "id": "3ad933e0",
   "metadata": {},
   "outputs": [],
   "source": []
  }
 ],
 "metadata": {
  "kernelspec": {
   "display_name": "Python 3 (ipykernel)",
   "language": "python",
   "name": "python3"
  },
  "language_info": {
   "codemirror_mode": {
    "name": "ipython",
    "version": 3
   },
   "file_extension": ".py",
   "mimetype": "text/x-python",
   "name": "python",
   "nbconvert_exporter": "python",
   "pygments_lexer": "ipython3",
   "version": "3.9.13"
  }
 },
 "nbformat": 4,
 "nbformat_minor": 5
}
