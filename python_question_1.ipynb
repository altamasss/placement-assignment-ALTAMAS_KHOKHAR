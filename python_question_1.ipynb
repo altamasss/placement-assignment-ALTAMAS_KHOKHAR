{
  "nbformat": 4,
  "nbformat_minor": 0,
  "metadata": {
    "colab": {
      "provenance": []
    },
    "kernelspec": {
      "name": "python3",
      "display_name": "Python 3"
    },
    "language_info": {
      "name": "python"
    }
  },
  "cells": [
    {
      "cell_type": "markdown",
      "source": [
        "1. Write a program that takes a string as input, and counts the frequency of each word in the string, there might be repeated characters in the string. Your task is to find the highest frequency and returns the length of the highest-frequency word."
      ],
      "metadata": {
        "id": "PuUeC45-POJn"
      }
    },
    {
      "cell_type": "code",
      "source": [
        "from collections import Counter\n",
        "\n",
        "def find_highest_frequency_length(input_string):\n",
        "    try:\n",
        "        # Split the string into words\n",
        "        words = input_string.split()\n",
        "\n",
        "        # Count the frequency of each word\n",
        "        word_counts = Counter(words)\n",
        "\n",
        "        # Find the word(s) with the highest frequency\n",
        "        max_frequency = max(word_counts.values())\n",
        "        highest_frequency_words = [word for word, count in word_counts.items() if count == max_frequency]\n",
        "\n",
        "        # Find the length of the highest-frequency word\n",
        "        highest_frequency_length = max(len(word) for word in highest_frequency_words)\n",
        "\n",
        "        return highest_frequency_length\n",
        "    except Exception as e:\n",
        "        print(\"An error occurred:\", str(e))\n",
        "        return None\n",
        "\n",
        "# Test Case 1\n",
        "input_string1 = \"write write write all the number from from from 1 to 100\"\n",
        "result1 = find_highest_frequency_length(input_string1)\n",
        "print(\"Length of the highest-frequency word:\", result1)\n",
        "print(\"Explanation: From the given string we can note that \\nthe most frequent words are “write” and “from” and the maximum value of both the values \\nis “write” and its corresponding length is 5.\")\n",
        "print(\"=\"*50)\n",
        "\n",
        "# Test Case 2\n",
        "input_string2 = \"altamash khokhar khokhar khokhar altamash is a student of ineuron.\"\n",
        "result2 = find_highest_frequency_length(input_string2)\n",
        "print(\"Length of the highest-frequency word:\", result2)\n",
        "print(\"Explanation: From the given string we can note that \\nthe most frequent words are “altamash” and “khokhar” and the maximum value of both the values \\nis “khokhar” and its corresponding length is 7.\")\n",
        "print(\"=\"*50)\n",
        "\n",
        "# Test Case 3\n",
        "input_string3 = \"i am student of ineuron full full stack data data data science FSDS.\"\n",
        "result3 = find_highest_frequency_length(input_string3)\n",
        "print(\"Length of the highest-frequency word:\", result3)\n",
        "print(\"Explanation: From the given string we can note that \\nthe most frequent word is “data” and its corresponding length is 4.\")\n"
      ],
      "metadata": {
        "colab": {
          "base_uri": "https://localhost:8080/"
        },
        "id": "m2YLyKFcPKfo",
        "outputId": "b4c67b48-c15e-4e03-8659-607758e112ba"
      },
      "execution_count": 5,
      "outputs": [
        {
          "output_type": "stream",
          "name": "stdout",
          "text": [
            "Length of the highest-frequency word: 5\n",
            "Explanation: From the given string we can note that \n",
            "the most frequent words are “write” and “from” and the maximum value of both the values \n",
            "is “write” and its corresponding length is 5.\n",
            "==================================================\n",
            "Length of the highest-frequency word: 7\n",
            "Explanation: From the given string we can note that \n",
            "the most frequent words are “altamash” and “khokhar” and the maximum value of both the values \n",
            "is “khokhar” and its corresponding length is 7.\n",
            "==================================================\n",
            "Length of the highest-frequency word: 4\n",
            "Explanation: From the given string we can note that \n",
            "the most frequent word is “data” and its corresponding length is 4.\n"
          ]
        }
      ]
    }
  ]
}