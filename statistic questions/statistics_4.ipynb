{
  "nbformat": 4,
  "nbformat_minor": 0,
  "metadata": {
    "colab": {
      "provenance": []
    },
    "kernelspec": {
      "name": "python3",
      "display_name": "Python 3"
    },
    "language_info": {
      "name": "python"
    }
  },
  "cells": [
    {
      "cell_type": "markdown",
      "source": [
        "# Question no.4 :-\n",
        "\n",
        "# A group of 20 friends decide to play a game in which they each write a number between 1 and 20 on a slip of paper and put it into a hat. They then draw one slip of paper at random. What is the probability that the number on the slip of paper is a perfect square (i.e., 1, 4, 9, or 16)?"
      ],
      "metadata": {
        "id": "9zkNFKpX53R4"
      }
    },
    {
      "cell_type": "code",
      "execution_count": 1,
      "metadata": {
        "colab": {
          "base_uri": "https://localhost:8080/"
        },
        "id": "IyvR651E2Mja",
        "outputId": "41e81375-b124-4696-d6f8-c99aa072f9db"
      },
      "outputs": [
        {
          "output_type": "stream",
          "name": "stdout",
          "text": [
            "The Probability of number in drawn slip of paper to be perfect square is: 0.2\n"
          ]
        }
      ],
      "source": [
        "required_draws = 4\n",
        "\n",
        "# total possible draws\n",
        "total_draws = 20\n",
        "\n",
        "# Calculating probability\n",
        "probability = required_draws / total_draws\n",
        "\n",
        "print(\"The Probability of number in drawn slip of paper to be perfect square is:\",probability)"
      ]
    }
  ]
}