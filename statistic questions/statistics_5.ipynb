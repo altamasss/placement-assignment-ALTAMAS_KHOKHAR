{
  "nbformat": 4,
  "nbformat_minor": 0,
  "metadata": {
    "colab": {
      "provenance": []
    },
    "kernelspec": {
      "name": "python3",
      "display_name": "Python 3"
    },
    "language_info": {
      "name": "python"
    }
  },
  "cells": [
    {
      "cell_type": "markdown",
      "source": [
        "# Question no.5 :- \n",
        "\n",
        "# A certain city has two taxi companies: Company A has 80% of the taxis and Company B has 20% of the taxis. Company A's taxis have a 95% success rate for picking up passengers on time, while Company B's taxis have a 90% success rate. If a randomly selected taxi is late, what is the probability that it belongs to Company A?"
      ],
      "metadata": {
        "id": "ZejVLl8C6gjR"
      }
    },
    {
      "cell_type": "code",
      "execution_count": 1,
      "metadata": {
        "colab": {
          "base_uri": "https://localhost:8080/"
        },
        "id": "AYcoFP-q6OmS",
        "outputId": "5931cf62-ff77-4758-f43e-164ff9d59f43"
      },
      "outputs": [
        {
          "output_type": "stream",
          "name": "stdout",
          "text": [
            "The probability of Company A is: 0.67\n"
          ]
        }
      ],
      "source": [
        "# probabilities given\n",
        "prob_A = 0.8\n",
        "prob_B_given_A = 0.05\n",
        "prob_B_given_not_A = 0.1\n",
        "\n",
        "# Calculate prob_not_A\n",
        "prob_not_A = 1 - prob_A\n",
        "\n",
        "# Calculate prob_B\n",
        "prob_B = (prob_B_given_A * prob_A) + (prob_B_given_not_A * prob_not_A) \n",
        "\n",
        "# Calculate P(A|B) using Bayes' theorem\n",
        "prob_A_given_B = (prob_B_given_A * prob_A) / prob_B\n",
        "\n",
        "print(\"The probability of Company A is:\",round(prob_A_given_B,2))"
      ]
    }
  ]
}