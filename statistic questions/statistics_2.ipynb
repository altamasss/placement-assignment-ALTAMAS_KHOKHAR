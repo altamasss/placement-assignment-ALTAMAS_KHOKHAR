{
  "nbformat": 4,
  "nbformat_minor": 0,
  "metadata": {
    "colab": {
      "provenance": []
    },
    "kernelspec": {
      "name": "python3",
      "display_name": "Python 3"
    },
    "language_info": {
      "name": "python"
    }
  },
  "cells": [
    {
      "cell_type": "markdown",
      "source": [
        "# Question no.2 :- \n",
        "\n",
        "Consider a dataset containing the heights (in centimeters) of 1000 individuals. The mean height is 170 cm with a standard deviation of 10 cm. The dataset is approximately normally distributed, and its skewness is approximately zero. Based on this information, answer the following questions:\n",
        "\n",
        "a. What percentage of individuals in the dataset have heights between 160 cm and 180 cm?\n",
        "\n",
        "b. If we randomly select 100 individuals from the dataset, what is the probability that their average height is greater than 175 cm?\n",
        "\n",
        "c. Assuming the dataset follows a normal distribution, what is the z-score corresponding to a height of 185 cm?\n",
        "\n",
        "d. We know that 5% of the dataset has heights below a certain value. What is the approximate height corresponding to this threshold?\n",
        "\n",
        "e. Calculate the coefficient of variation (CV) for the dataset.\n",
        "\n",
        "f. Calculate the skewness of the dataset and interpret the result.\n",
        "\n",
        "\n"
      ],
      "metadata": {
        "id": "wU6Q0ojjw5BP"
      }
    },
    {
      "cell_type": "code",
      "source": [
        "# available data\n",
        "mean_height = 170\n",
        "std_d = 10"
      ],
      "metadata": {
        "id": "gOF7NB0MxJkP"
      },
      "execution_count": 2,
      "outputs": []
    },
    {
      "cell_type": "markdown",
      "source": [
        "# What percentage of individuals in the dataset have heights between 160 cm and 180 cm?"
      ],
      "metadata": {
        "id": "cfnIaJGBxWg2"
      }
    },
    {
      "cell_type": "code",
      "source": [
        "import scipy.stats as stats\n",
        "# using z_score formula and statistics library to find area under the curve \n",
        "z1 = (160 - mean_height) / std_d\n",
        "z2 = (180 - mean_height) / std_d\n",
        "\n",
        "# finding the difference\n",
        "diff = stats.norm.cdf(z2) - stats.norm.cdf(z1)\n",
        "print(\"The percent of individuals having heights between 160 cm to 180 cm is:\",round(diff*100,2))"
      ],
      "metadata": {
        "colab": {
          "base_uri": "https://localhost:8080/"
        },
        "id": "sfLWN7Amxilu",
        "outputId": "66675a69-a75b-4f4a-a470-e3961e1941fe"
      },
      "execution_count": 3,
      "outputs": [
        {
          "output_type": "stream",
          "name": "stdout",
          "text": [
            "The percent of individuals having heights between 160 cm to 180 cm is: 68.27\n"
          ]
        }
      ]
    },
    {
      "cell_type": "markdown",
      "source": [
        "# If we randomly select 100 individuals from the dataset, what is the probability that their average height is greater than 175 cm?"
      ],
      "metadata": {
        "id": "9oE2gAflx0p-"
      }
    },
    {
      "cell_type": "code",
      "source": [
        "# calculating z_score for given sample size\n",
        "sample = 100  \n",
        "sample_std_d = std_d/ (sample ** 0.5)\n",
        "z_score = (175 - mean_height) / sample_std_d\n",
        "\n",
        "# calculating the probability \n",
        "probability = 1 - stats.norm.cdf(z_score)\n",
        "print(f\"The Probability of 100 individuals having height greater than 175 cm is: {probability}\")"
      ],
      "metadata": {
        "colab": {
          "base_uri": "https://localhost:8080/"
        },
        "id": "usHfS2mAxwm-",
        "outputId": "9c1cb17f-664b-4b9e-80bb-4bbd32181c53"
      },
      "execution_count": 4,
      "outputs": [
        {
          "output_type": "stream",
          "name": "stdout",
          "text": [
            "The Probability of 100 individuals having height greater than 175 cm is: 2.866515719235352e-07\n"
          ]
        }
      ]
    },
    {
      "cell_type": "markdown",
      "source": [
        "~ Here, the probability we obtained above is terms of e to the power -07 which very small and negligible. Hence, we can say the probability to be 0"
      ],
      "metadata": {
        "id": "CtO_Wp4RyBG-"
      }
    },
    {
      "cell_type": "markdown",
      "source": [
        "# Assuming the dataset follows a normal distribution, what is the z-score corresponding to a height of 185 cm?"
      ],
      "metadata": {
        "id": "jfsPYfYIyNK3"
      }
    },
    {
      "cell_type": "code",
      "source": [
        "given_height = 185 \n",
        "\n",
        "# calculating z_score for given height\n",
        "z_score = (given_height - mean_height)/std_d\n",
        "\n",
        "print(f\"The z_score for height 185 cm is: {z_score}\")"
      ],
      "metadata": {
        "colab": {
          "base_uri": "https://localhost:8080/"
        },
        "id": "wWB0iHXoyFmO",
        "outputId": "81518ba4-d8fc-46c9-b331-fee514c3ef00"
      },
      "execution_count": 5,
      "outputs": [
        {
          "output_type": "stream",
          "name": "stdout",
          "text": [
            "The z_score for height 185 cm is: 1.5\n"
          ]
        }
      ]
    },
    {
      "cell_type": "markdown",
      "source": [
        "# We know that 5% of the dataset has heights below a certain value. What is the approximate height corresponding to this threshold?"
      ],
      "metadata": {
        "id": "zGgAJGobyXf_"
      }
    },
    {
      "cell_type": "code",
      "source": [
        "given_percentile = 0.05\n",
        "\n",
        "# calculating height for given percentile\n",
        "threeshold = stats.norm.ppf(given_percentile,mean_height,std_d)\n",
        "\n",
        "print(\"The height corresponding to 5% threeshold is:\",round(threeshold,2))"
      ],
      "metadata": {
        "colab": {
          "base_uri": "https://localhost:8080/"
        },
        "id": "JShTSluwyheG",
        "outputId": "5a6a079c-1b71-43bf-da15-e5099eae0022"
      },
      "execution_count": 6,
      "outputs": [
        {
          "output_type": "stream",
          "name": "stdout",
          "text": [
            "The height corresponding to 5% threeshold is: 153.55\n"
          ]
        }
      ]
    },
    {
      "cell_type": "markdown",
      "source": [
        "# Calculate the coefficient of variation (CV) for the dataset."
      ],
      "metadata": {
        "id": "ibZFQfywyntO"
      }
    },
    {
      "cell_type": "code",
      "source": [
        "# calculating Coefficient of variation\n",
        "cv = (std_d/mean_height)*100\n",
        "\n",
        "print(\"The Coefficient of variation is:\",round(cv,2))"
      ],
      "metadata": {
        "colab": {
          "base_uri": "https://localhost:8080/"
        },
        "id": "4BaeFVdRyvwW",
        "outputId": "2c4dc83d-3e87-4426-927f-358db13ae152"
      },
      "execution_count": 7,
      "outputs": [
        {
          "output_type": "stream",
          "name": "stdout",
          "text": [
            "The Coefficient of variation is: 5.88\n"
          ]
        }
      ]
    },
    {
      "cell_type": "markdown",
      "source": [
        "# Calculate the skewness of the dataset and interpret the result."
      ],
      "metadata": {
        "id": "39hXjH3my55W"
      }
    },
    {
      "cell_type": "code",
      "source": [
        "skewness = 0 # Given in the dataset\n",
        "\n",
        "print(f\"The skewness of the dataset is: {skewness}\")\n",
        "   "
      ],
      "metadata": {
        "colab": {
          "base_uri": "https://localhost:8080/"
        },
        "id": "HmhFMLrEy_oH",
        "outputId": "1d2063a8-0c7f-48c3-fd40-3da3f8571038"
      },
      "execution_count": 8,
      "outputs": [
        {
          "output_type": "stream",
          "name": "stdout",
          "text": [
            "The skewness of the dataset is: 0\n"
          ]
        }
      ]
    }
  ]
}