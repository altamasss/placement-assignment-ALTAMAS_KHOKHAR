{
  "nbformat": 4,
  "nbformat_minor": 0,
  "metadata": {
    "colab": {
      "provenance": []
    },
    "kernelspec": {
      "name": "python3",
      "display_name": "Python 3"
    },
    "language_info": {
      "name": "python"
    }
  },
  "cells": [
    {
      "cell_type": "markdown",
      "source": [
        "# Question no.10 :- \n",
        "\n",
        "A factory produces light bulbs, and the probability of a bulb being defective is 0.05. \n",
        "\n",
        "The factory produces a large batch of 500 light bulbs.\n",
        "\n",
        " a. What is the probability that exactly 20 bulbs are defective? \n",
        " \n",
        " b. What is the probability that at least 10 bulbs are defective? \n",
        " \n",
        " c. What is the probability that at max 15 bulbs are defective? \n",
        " \n",
        " d. On average, how many defective bulbs would you expect in a batch of 500?"
      ],
      "metadata": {
        "id": "garb86UbBN-E"
      }
    },
    {
      "cell_type": "code",
      "execution_count": 4,
      "metadata": {
        "id": "PN7BiqMjBEhI"
      },
      "outputs": [],
      "source": [
        "import scipy.stats as stats\n",
        "# given data \n",
        "total_bulbs = 500\n",
        "probability_defective = 0.05"
      ]
    },
    {
      "cell_type": "markdown",
      "source": [
        "# (a). What is the probability that exactly 20 bulbs are defective?"
      ],
      "metadata": {
        "id": "szff0sYbBsD7"
      }
    },
    {
      "cell_type": "code",
      "source": [
        "d = 20\n",
        "prob_20_defective = stats.binom.pmf(d,total_bulbs,probability_defective)\n",
        "print(\"The probability that exactly 20 bulbs are defective is:\",round(prob_20_defective,2))"
      ],
      "metadata": {
        "colab": {
          "base_uri": "https://localhost:8080/"
        },
        "id": "sjg5us1nBwS8",
        "outputId": "1e5f4a56-fdbd-4eb2-acf5-085c6aeb7fa4"
      },
      "execution_count": 5,
      "outputs": [
        {
          "output_type": "stream",
          "name": "stdout",
          "text": [
            "The probability that exactly 20 bulbs are defective is: 0.05\n"
          ]
        }
      ]
    },
    {
      "cell_type": "markdown",
      "source": [
        "# (b). What is the probability that at least 10 bulbs are defective?"
      ],
      "metadata": {
        "id": "uPFy5m2BCaC9"
      }
    },
    {
      "cell_type": "code",
      "source": [
        "d1 = 10\n",
        "prob_at_least_10_defective = 1 - stats.binom.cdf(d1 - 1, total_bulbs, probability_defective)\n",
        "print(\"The probability that at least 10 bulbs are defective is:\",round(prob_at_least_10_defective,2))"
      ],
      "metadata": {
        "colab": {
          "base_uri": "https://localhost:8080/"
        },
        "id": "DYhGaXwECcYU",
        "outputId": "d4aa86d4-f3bb-4937-bdfc-2cb0c3a6d649"
      },
      "execution_count": 6,
      "outputs": [
        {
          "output_type": "stream",
          "name": "stdout",
          "text": [
            "The probability that at least 10 bulbs are defective is: 1.0\n"
          ]
        }
      ]
    },
    {
      "cell_type": "markdown",
      "source": [
        "# (c). What is the probability that at max 15 bulbs are defective?"
      ],
      "metadata": {
        "id": "oGNLmBZVClJ8"
      }
    },
    {
      "cell_type": "code",
      "source": [
        "d2 = 15\n",
        "prob_at_max_15_defective = stats.binom.cdf(d2,total_bulbs,probability_defective)\n",
        "print(f\"The probability that at max 15 bulbs are defective is:\",round(prob_at_max_15_defective,2))"
      ],
      "metadata": {
        "colab": {
          "base_uri": "https://localhost:8080/"
        },
        "id": "G0m1Jv6UChTF",
        "outputId": "6e5124ea-f3dc-4e52-c3b8-24be713815b2"
      },
      "execution_count": 7,
      "outputs": [
        {
          "output_type": "stream",
          "name": "stdout",
          "text": [
            "The probability that at max 15 bulbs are defective is: 0.02\n"
          ]
        }
      ]
    },
    {
      "cell_type": "markdown",
      "source": [
        "# (d). On average, how many defective bulbs would you expect in a batch of 500?"
      ],
      "metadata": {
        "id": "XoTh4jH9CzXt"
      }
    },
    {
      "cell_type": "code",
      "source": [
        "defective_bulbs = total_bulbs * probability_defective\n",
        "print(\"The overall expected defective bulbs in a batch of 500 is:\",defective_bulbs)"
      ],
      "metadata": {
        "colab": {
          "base_uri": "https://localhost:8080/"
        },
        "id": "vQeXl8rlCtnd",
        "outputId": "634ae4b1-df15-4602-f78e-6cbafdb8a5d7"
      },
      "execution_count": 8,
      "outputs": [
        {
          "output_type": "stream",
          "name": "stdout",
          "text": [
            "The overall expected defective bulbs in a batch of 500 is: 25.0\n"
          ]
        }
      ]
    }
  ]
}