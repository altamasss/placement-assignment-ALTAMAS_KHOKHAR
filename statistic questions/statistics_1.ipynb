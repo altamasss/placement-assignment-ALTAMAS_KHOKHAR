{
  "nbformat": 4,
  "nbformat_minor": 0,
  "metadata": {
    "colab": {
      "provenance": []
    },
    "kernelspec": {
      "name": "python3",
      "display_name": "Python 3"
    },
    "language_info": {
      "name": "python"
    }
  },
  "cells": [
    {
      "cell_type": "markdown",
      "source": [
        "# Question no.1 :- \n",
        "\n",
        "A university wants to understand the relationship between the SAT scores of its applicants and their college GPA. They collect data on 500 students, including their SAT scores (out of 1600) and their college GPA (on a 4.0 scale). They find that the correlation coefficient between SAT scores and college GPA is 0.7. What does this correlation coefficient indicate about the relationship between SAT scores and college GPA?"
      ],
      "metadata": {
        "id": "PBoDCE-GvxG3"
      }
    },
    {
      "cell_type": "markdown",
      "source": [
        "# Answer no.1\n",
        "\n",
        "Here the correlation coefficient of 0.7 shows a strong positive relationship between SAT scores and college GPA. The correlation coefficient ranges from -1 to 1, where 1 shows perfect positive relationship, 0 show no relationship, and -1 shows perfect negative relationship. So as per the data in the question, the correlation coefficient of 0.7 has a strong positive relationship, stating that higher SAT scores are commonly in association with colleges having higher GPAs."
      ],
      "metadata": {
        "id": "i0J3S3cpv6Pu"
      }
    }
  ]
}