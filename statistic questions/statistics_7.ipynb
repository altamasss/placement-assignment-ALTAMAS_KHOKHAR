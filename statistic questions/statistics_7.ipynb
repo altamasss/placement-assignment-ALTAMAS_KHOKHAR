{
  "nbformat": 4,
  "nbformat_minor": 0,
  "metadata": {
    "colab": {
      "provenance": []
    },
    "kernelspec": {
      "name": "python3",
      "display_name": "Python 3"
    },
    "language_info": {
      "name": "python"
    }
  },
  "cells": [
    {
      "cell_type": "markdown",
      "source": [
        "# Question-7.\n",
        "\n",
        " The equations of two lines of regression, obtained in a correlation analysis between variables X and Y are as follows:\n",
        " \n",
        "  and . \n",
        "  \n",
        "  2𝑋 + 3 − 8 = 0 \n",
        "  \n",
        "  2𝑌 + 𝑋 − 5 = 0 \n",
        "  \n",
        "  The variance of 𝑋 = 4 Find the\n",
        "\n",
        "a. Variance of Y\n",
        "\n",
        "b. Coefficient of determination of C and Y\n",
        "\n",
        "c. Standard error of estimate of X on Y and of Y on X."
      ],
      "metadata": {
        "id": "XqTBl7ShLB9Y"
      }
    },
    {
      "cell_type": "markdown",
      "source": [
        "# (a). Variance of Y:"
      ],
      "metadata": {
        "id": "cIqzlEmZL3nX"
      }
    },
    {
      "cell_type": "markdown",
      "source": [
        "2Y = 5 - X\n",
        "\n",
        "Y = (5 - X) / 2\n",
        "\n",
        "* The slope of the regression line of Y on X is the coefficient of X, which is -1/2.\n",
        "\n",
        "* Since the variance of X is given as 4, we can use the formula for the variance of Y given the variance of X and the slope of the regression line:\n",
        "\n",
        "* Variance of Y = (slope of regression line of Y on X)^2 * Variance of X = (-1/2)^2 * 4 = 1\n",
        "\n",
        "* Therefore, the variance of Y is 1."
      ],
      "metadata": {
        "id": "j_f5oTF5L5vP"
      }
    },
    {
      "cell_type": "code",
      "source": [
        "import numpy as np\n",
        "\n",
        "# Given regression equations\n",
        "# 2X + 3Y - 8 = 0\n",
        "# 2Y + X - 5 = 0\n",
        "\n",
        "variance_X = 4\n",
        "\n",
        "# Slope of regression line of Y on X\n",
        "slope_Y_X = -1/2\n",
        "# Variance of Y = (slope of regression line of Y on X)^2 * Variance of X\n",
        "variance_Y = (slope_Y_X ** 2) * variance_X\n",
        "\n",
        "print(\"Variance of Y:\", variance_Y)"
      ],
      "metadata": {
        "colab": {
          "base_uri": "https://localhost:8080/"
        },
        "id": "Mt_un147L_VO",
        "outputId": "4062cc2f-a977-4435-bcea-a045c38165f3"
      },
      "execution_count": 1,
      "outputs": [
        {
          "output_type": "stream",
          "name": "stdout",
          "text": [
            "Variance of Y: 1.0\n"
          ]
        }
      ]
    },
    {
      "cell_type": "markdown",
      "source": [
        "# (b). Coefficient of determination of C and Y:"
      ],
      "metadata": {
        "id": "Y3HC5_dpMG2f"
      }
    },
    {
      "cell_type": "markdown",
      "source": [
        "The coefficient of determination, denoted by R^2, represents the proportion of the variance in the dependent variable (Y) that can be explained by the independent variable (X).\n",
        "\n",
        ".\n",
        "\n",
        "R^2 = (Regression Sum of Squares) / (Total Sum of Squares)\n",
        "\n",
        ".\n",
        "\n",
        "\n",
        "*   The Regression Sum of Squares (SSR) is the sum of squared differences between the predicted Y values and the mean of Y.\n",
        "*   The Total Sum of Squares (SST) is the sum of squared differences between the actual Y values and the mean of Y.\n",
        "\n",
        "\n",
        "Y_predicted = (5 - X) / 2\n",
        "\n",
        "mean_Y = sum(Y) / n\n",
        "\n",
        "where sum(Y) is the sum of Y values and n is the number of data points.\n",
        "\n",
        "SSR = sum((Y_predicted - mean_Y)^2)\n",
        "\n",
        "SST = sum((Y - mean_Y)^2)\n",
        "\n",
        "R^2 = SSR / SST\n",
        "\n",
        "\n"
      ],
      "metadata": {
        "id": "I3NGQs8yMWq3"
      }
    },
    {
      "cell_type": "code",
      "source": [
        "# Calculate predicted Y values using regression line equation (2)\n",
        "def predict_Y(X):\n",
        "    return (5 - X) / 2\n",
        "\n",
        "# Generate example X values\n",
        "X_values = np.random.rand(100)\n",
        "\n",
        "# Calculate predicted Y values\n",
        "Y_predicted = predict_Y(X_values)\n",
        "\n",
        "# Calculate mean of Y\n",
        "mean_Y = np.mean(Y_predicted)\n",
        "\n",
        "# Regression Sum of Squares (SSR)\n",
        "SSR = np.sum((Y_predicted - mean_Y) ** 2)\n",
        "\n",
        "# Total Sum of Squares (SST)\n",
        "SST = np.sum((Y_predicted - np.mean(Y_predicted)) ** 2)\n",
        "\n",
        "# Coefficient of determination (R^2)\n",
        "R_squared = SSR / SST\n",
        "\n",
        "print(\"Coefficient of determination (R^2):\", R_squared)"
      ],
      "metadata": {
        "colab": {
          "base_uri": "https://localhost:8080/"
        },
        "id": "bb8BmRfnM_3o",
        "outputId": "9089976a-21a7-4ea7-a43a-a6bd17274414"
      },
      "execution_count": 2,
      "outputs": [
        {
          "output_type": "stream",
          "name": "stdout",
          "text": [
            "Coefficient of determination (R^2): 1.0\n"
          ]
        }
      ]
    },
    {
      "cell_type": "markdown",
      "source": [
        "# (c). Standard error of estimate of X on Y and of Y on X:"
      ],
      "metadata": {
        "id": "Wi05l612NFrY"
      }
    },
    {
      "cell_type": "markdown",
      "source": [
        "* The standard error of estimate represents the average distance between the predicted and actual values of the dependent variable (Y) in the regression analysis.\n",
        "\n",
        "* Standard error of estimate of X on Y:\n",
        "\n",
        "* SEest(X|Y) = (Sum of Squares of Residuals(X|Y) / (n - 2))**0.5\n",
        "\n",
        "* Standard error of estimate of Y on X:\n",
        "\n",
        "* SEest(Y|X) = (Sum of Squares of Residuals(Y|X) / (n - 2))**0.5\n",
        "\n",
        "* The Sum of Squares of Residuals (SSE) is the sum of squared differences between the predicted Y values and the actual Y values.\n",
        "\n",
        "* The value of n is the number of data points.\n",
        "\n",
        "* To calculate the Standard error of estimate of X on Y and of Y on X, you'll need the residuals. The residuals are the differences between the actual Y values and the predicted Y values for each data point.\n",
        "\n",
        "* You can use the formulas provided to calculate the values for b, c, and d based on the given regression equations, variance of X, and the data."
      ],
      "metadata": {
        "id": "sFg_xn16NFYP"
      }
    }
  ]
}