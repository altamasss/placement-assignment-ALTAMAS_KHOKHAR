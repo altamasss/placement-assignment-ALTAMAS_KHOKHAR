{
  "nbformat": 4,
  "nbformat_minor": 0,
  "metadata": {
    "colab": {
      "provenance": []
    },
    "kernelspec": {
      "name": "python3",
      "display_name": "Python 3"
    },
    "language_info": {
      "name": "python"
    }
  },
  "cells": [
    {
      "cell_type": "markdown",
      "source": [
        "# Question no.12 :- \n",
        "\n",
        "A pharmaceutical company develops a new drug and wants to compare its effectiveness against a standard drug for treating a particular condition. They conduct a study with two groups: Group A receives the new drug, and Group B receives the standard drug. The company measures the improvement in a specific symptom for both groups after a 4-week treatment period.\n",
        "\n",
        ".\n",
        "\n",
        "a. The company collects data from 30 patients in each group and calculates the mean improvement score and the standard deviation of improvement for each group. The mean improvement score for Group A is 2.5 with a standard deviation of 0.8, while the mean improvement score for Group B is 2.2 with a standard deviation of 0.6. Conduct a t-test to determine if there is a significant difference in the mean improvement scores between the two groups. Use a significance level of 0.05.\n",
        "\n",
        ".\n",
        "\n",
        "b. Based on the t-test results, state whether the null hypothesis should be rejected or not. Provide a conclusion in the context of the study."
      ],
      "metadata": {
        "id": "T5nLHFBEDOFO"
      }
    },
    {
      "cell_type": "code",
      "execution_count": 1,
      "metadata": {
        "colab": {
          "base_uri": "https://localhost:8080/"
        },
        "id": "rHgxp5lIDE_I",
        "outputId": "0c099034-ba71-4301-f7e2-2f2f4d6ce078"
      },
      "outputs": [
        {
          "output_type": "stream",
          "name": "stdout",
          "text": [
            "Failed to reject the Null Hypothesis.\n",
            "There is no significant difference in the mean improvement scores between both the groups\n"
          ]
        }
      ],
      "source": [
        "import scipy.stats as stats\n",
        "\n",
        "# given data for group A\n",
        "mean_A = 2.5\n",
        "std_A = 0.8\n",
        "n_A = 30\n",
        "\n",
        "# given data for group B\n",
        "mean_B = 2.2\n",
        "std_B = 0.6\n",
        "n_B = 30\n",
        "\n",
        "# Conducting t-test for two-sample independent t-test\n",
        "t_statistic, p_value = stats.ttest_ind_from_stats(mean_A, std_A, n_A, mean_B, std_B, n_B)\n",
        "alpha = 0.05\n",
        "\n",
        "if p_value < alpha:\n",
        "    print(\"Reject the Null Hypothesis.\")\n",
        "    print(\"There is a significant difference in the mean improvement scores between both the groups\")\n",
        "else:\n",
        "    print(\"Failed to reject the Null Hypothesis.\")\n",
        "    print(\"There is no significant difference in the mean improvement scores between both the groups\")"
      ]
    }
  ]
}