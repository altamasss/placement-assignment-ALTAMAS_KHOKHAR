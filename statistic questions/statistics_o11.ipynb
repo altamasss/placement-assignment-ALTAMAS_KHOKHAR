{
  "nbformat": 4,
  "nbformat_minor": 0,
  "metadata": {
    "colab": {
      "provenance": []
    },
    "kernelspec": {
      "name": "python3",
      "display_name": "Python 3"
    },
    "language_info": {
      "name": "python"
    }
  },
  "cells": [
    {
      "cell_type": "markdown",
      "source": [
        "# Question-11. \n",
        "\n",
        "Given the data of a feature contributing to different classes\n",
        "\n",
        "https://drive.google.com/file/d/1mCjtYHiX--mMUjicuaP2gH3k-SnFxt8Y/view?usp\n",
        "=share_\n",
        "\n",
        ".\n",
        "\n",
        "a. Check whether the distribution of all the classes are the same or not.\n",
        "\n",
        ".\n",
        "\n",
        "b. Check for the equality of variance/\n",
        "\n",
        ".\n",
        "\n",
        "c. Which amount LDA and QDA would perform better on this data for\n",
        "classification and why.\n",
        "\n",
        ".\n",
        "\n",
        "d. Check the equality of mean for between all the classes."
      ],
      "metadata": {
        "id": "R12wZ2uyFjsG"
      }
    },
    {
      "cell_type": "code",
      "execution_count": 1,
      "metadata": {
        "id": "d2VUIkkOFHGU"
      },
      "outputs": [],
      "source": [
        "import scipy.stats as stats\n",
        "import pandas as pd\n",
        "import numpy as np"
      ]
    },
    {
      "cell_type": "code",
      "source": [
        "df = pd.read_csv(\"/content/sample_data/data.csv\")\n",
        "df"
      ],
      "metadata": {
        "colab": {
          "base_uri": "https://localhost:8080/",
          "height": 423
        },
        "id": "-6roBLTnGFUu",
        "outputId": "d53b01aa-2081-475a-8f4c-de66695bd6e4"
      },
      "execution_count": 2,
      "outputs": [
        {
          "output_type": "execute_result",
          "data": {
            "text/plain": [
              "    Patient ID   Blood Pressure Before (mmHg)   Blood Pressure After (mmHg)\n",
              "0            1                            130                           120\n",
              "1            2                            142                           135\n",
              "2            3                            120                           118\n",
              "3            4                            135                           127\n",
              "4            5                            148                           140\n",
              "..         ...                            ...                           ...\n",
              "95          96                            136                           129\n",
              "96          97                            143                           137\n",
              "97          98                            127                           123\n",
              "98          99                            139                           135\n",
              "99         100                            135                           130\n",
              "\n",
              "[100 rows x 3 columns]"
            ],
            "text/html": [
              "\n",
              "  <div id=\"df-d55bdd9e-e93d-4c2a-b3bd-fe578ab45ea4\">\n",
              "    <div class=\"colab-df-container\">\n",
              "      <div>\n",
              "<style scoped>\n",
              "    .dataframe tbody tr th:only-of-type {\n",
              "        vertical-align: middle;\n",
              "    }\n",
              "\n",
              "    .dataframe tbody tr th {\n",
              "        vertical-align: top;\n",
              "    }\n",
              "\n",
              "    .dataframe thead th {\n",
              "        text-align: right;\n",
              "    }\n",
              "</style>\n",
              "<table border=\"1\" class=\"dataframe\">\n",
              "  <thead>\n",
              "    <tr style=\"text-align: right;\">\n",
              "      <th></th>\n",
              "      <th>Patient ID</th>\n",
              "      <th>Blood Pressure Before (mmHg)</th>\n",
              "      <th>Blood Pressure After (mmHg)</th>\n",
              "    </tr>\n",
              "  </thead>\n",
              "  <tbody>\n",
              "    <tr>\n",
              "      <th>0</th>\n",
              "      <td>1</td>\n",
              "      <td>130</td>\n",
              "      <td>120</td>\n",
              "    </tr>\n",
              "    <tr>\n",
              "      <th>1</th>\n",
              "      <td>2</td>\n",
              "      <td>142</td>\n",
              "      <td>135</td>\n",
              "    </tr>\n",
              "    <tr>\n",
              "      <th>2</th>\n",
              "      <td>3</td>\n",
              "      <td>120</td>\n",
              "      <td>118</td>\n",
              "    </tr>\n",
              "    <tr>\n",
              "      <th>3</th>\n",
              "      <td>4</td>\n",
              "      <td>135</td>\n",
              "      <td>127</td>\n",
              "    </tr>\n",
              "    <tr>\n",
              "      <th>4</th>\n",
              "      <td>5</td>\n",
              "      <td>148</td>\n",
              "      <td>140</td>\n",
              "    </tr>\n",
              "    <tr>\n",
              "      <th>...</th>\n",
              "      <td>...</td>\n",
              "      <td>...</td>\n",
              "      <td>...</td>\n",
              "    </tr>\n",
              "    <tr>\n",
              "      <th>95</th>\n",
              "      <td>96</td>\n",
              "      <td>136</td>\n",
              "      <td>129</td>\n",
              "    </tr>\n",
              "    <tr>\n",
              "      <th>96</th>\n",
              "      <td>97</td>\n",
              "      <td>143</td>\n",
              "      <td>137</td>\n",
              "    </tr>\n",
              "    <tr>\n",
              "      <th>97</th>\n",
              "      <td>98</td>\n",
              "      <td>127</td>\n",
              "      <td>123</td>\n",
              "    </tr>\n",
              "    <tr>\n",
              "      <th>98</th>\n",
              "      <td>99</td>\n",
              "      <td>139</td>\n",
              "      <td>135</td>\n",
              "    </tr>\n",
              "    <tr>\n",
              "      <th>99</th>\n",
              "      <td>100</td>\n",
              "      <td>135</td>\n",
              "      <td>130</td>\n",
              "    </tr>\n",
              "  </tbody>\n",
              "</table>\n",
              "<p>100 rows × 3 columns</p>\n",
              "</div>\n",
              "      <button class=\"colab-df-convert\" onclick=\"convertToInteractive('df-d55bdd9e-e93d-4c2a-b3bd-fe578ab45ea4')\"\n",
              "              title=\"Convert this dataframe to an interactive table.\"\n",
              "              style=\"display:none;\">\n",
              "        \n",
              "  <svg xmlns=\"http://www.w3.org/2000/svg\" height=\"24px\"viewBox=\"0 0 24 24\"\n",
              "       width=\"24px\">\n",
              "    <path d=\"M0 0h24v24H0V0z\" fill=\"none\"/>\n",
              "    <path d=\"M18.56 5.44l.94 2.06.94-2.06 2.06-.94-2.06-.94-.94-2.06-.94 2.06-2.06.94zm-11 1L8.5 8.5l.94-2.06 2.06-.94-2.06-.94L8.5 2.5l-.94 2.06-2.06.94zm10 10l.94 2.06.94-2.06 2.06-.94-2.06-.94-.94-2.06-.94 2.06-2.06.94z\"/><path d=\"M17.41 7.96l-1.37-1.37c-.4-.4-.92-.59-1.43-.59-.52 0-1.04.2-1.43.59L10.3 9.45l-7.72 7.72c-.78.78-.78 2.05 0 2.83L4 21.41c.39.39.9.59 1.41.59.51 0 1.02-.2 1.41-.59l7.78-7.78 2.81-2.81c.8-.78.8-2.07 0-2.86zM5.41 20L4 18.59l7.72-7.72 1.47 1.35L5.41 20z\"/>\n",
              "  </svg>\n",
              "      </button>\n",
              "      \n",
              "  <style>\n",
              "    .colab-df-container {\n",
              "      display:flex;\n",
              "      flex-wrap:wrap;\n",
              "      gap: 12px;\n",
              "    }\n",
              "\n",
              "    .colab-df-convert {\n",
              "      background-color: #E8F0FE;\n",
              "      border: none;\n",
              "      border-radius: 50%;\n",
              "      cursor: pointer;\n",
              "      display: none;\n",
              "      fill: #1967D2;\n",
              "      height: 32px;\n",
              "      padding: 0 0 0 0;\n",
              "      width: 32px;\n",
              "    }\n",
              "\n",
              "    .colab-df-convert:hover {\n",
              "      background-color: #E2EBFA;\n",
              "      box-shadow: 0px 1px 2px rgba(60, 64, 67, 0.3), 0px 1px 3px 1px rgba(60, 64, 67, 0.15);\n",
              "      fill: #174EA6;\n",
              "    }\n",
              "\n",
              "    [theme=dark] .colab-df-convert {\n",
              "      background-color: #3B4455;\n",
              "      fill: #D2E3FC;\n",
              "    }\n",
              "\n",
              "    [theme=dark] .colab-df-convert:hover {\n",
              "      background-color: #434B5C;\n",
              "      box-shadow: 0px 1px 3px 1px rgba(0, 0, 0, 0.15);\n",
              "      filter: drop-shadow(0px 1px 2px rgba(0, 0, 0, 0.3));\n",
              "      fill: #FFFFFF;\n",
              "    }\n",
              "  </style>\n",
              "\n",
              "      <script>\n",
              "        const buttonEl =\n",
              "          document.querySelector('#df-d55bdd9e-e93d-4c2a-b3bd-fe578ab45ea4 button.colab-df-convert');\n",
              "        buttonEl.style.display =\n",
              "          google.colab.kernel.accessAllowed ? 'block' : 'none';\n",
              "\n",
              "        async function convertToInteractive(key) {\n",
              "          const element = document.querySelector('#df-d55bdd9e-e93d-4c2a-b3bd-fe578ab45ea4');\n",
              "          const dataTable =\n",
              "            await google.colab.kernel.invokeFunction('convertToInteractive',\n",
              "                                                     [key], {});\n",
              "          if (!dataTable) return;\n",
              "\n",
              "          const docLinkHtml = 'Like what you see? Visit the ' +\n",
              "            '<a target=\"_blank\" href=https://colab.research.google.com/notebooks/data_table.ipynb>data table notebook</a>'\n",
              "            + ' to learn more about interactive tables.';\n",
              "          element.innerHTML = '';\n",
              "          dataTable['output_type'] = 'display_data';\n",
              "          await google.colab.output.renderOutput(dataTable, element);\n",
              "          const docLink = document.createElement('div');\n",
              "          docLink.innerHTML = docLinkHtml;\n",
              "          element.appendChild(docLink);\n",
              "        }\n",
              "      </script>\n",
              "    </div>\n",
              "  </div>\n",
              "  "
            ]
          },
          "metadata": {},
          "execution_count": 2
        }
      ]
    },
    {
      "cell_type": "code",
      "source": [
        "df.columns"
      ],
      "metadata": {
        "colab": {
          "base_uri": "https://localhost:8080/"
        },
        "id": "0si4AjGjJh5e",
        "outputId": "e2d10265-2c0b-43b6-9ff4-916e7a8edcb3"
      },
      "execution_count": 5,
      "outputs": [
        {
          "output_type": "execute_result",
          "data": {
            "text/plain": [
              "Index(['Patient ID', ' Blood Pressure Before (mmHg)',\n",
              "       ' Blood Pressure After (mmHg)'],\n",
              "      dtype='object')"
            ]
          },
          "metadata": {},
          "execution_count": 5
        }
      ]
    },
    {
      "cell_type": "code",
      "source": [
        "# Separate the data by patient Id labels\n",
        "class_labels = df['Patient ID'].unique()\n",
        "class_data = {label: df[df['Patient ID'] == label] for label in class_labels}"
      ],
      "metadata": {
        "id": "6Uk5qKsdJnGG"
      },
      "execution_count": 6,
      "outputs": []
    },
    {
      "cell_type": "markdown",
      "source": [
        "# (a). Check whether the distribution of all the classes are the same or not."
      ],
      "metadata": {
        "id": "BnKkU6CKHStF"
      }
    },
    {
      "cell_type": "code",
      "source": [
        "# Check whether the distribution of all the classes are the same or not\n",
        "p_value = stats.kruskal(*[class_data[label][' Blood Pressure Before (mmHg)'] for label in class_labels])[1]\n",
        "if p_value < 0.05:\n",
        "    print(\"The distributions of the classes for 'Blood Pressure Before' are different.\")\n",
        "else:\n",
        "    print(\"The distributions of the classes for 'Blood Pressure Before' are the same.\")\n",
        "\n",
        "p_value = stats.kruskal(*[class_data[label][' Blood Pressure After (mmHg)'] for label in class_labels])[1]\n",
        "if p_value < 0.05:\n",
        "    print(\"The distributions of the classes for 'Blood Pressure After' are different.\")\n",
        "else:\n",
        "    print(\"The distributions of the classes for 'Blood Pressure After' are the same.\")"
      ],
      "metadata": {
        "colab": {
          "base_uri": "https://localhost:8080/"
        },
        "id": "e-nfXxaMJOc2",
        "outputId": "73357609-7d5c-45c8-ea8c-498e08bb1329"
      },
      "execution_count": 8,
      "outputs": [
        {
          "output_type": "stream",
          "name": "stdout",
          "text": [
            "The distributions of the classes for 'Blood Pressure Before' are the same.\n",
            "The distributions of the classes for 'Blood Pressure After' are the same.\n"
          ]
        }
      ]
    },
    {
      "cell_type": "markdown",
      "source": [
        "# (b). Check for the equality of variance/"
      ],
      "metadata": {
        "id": "TbR5rWbxHhlO"
      }
    },
    {
      "cell_type": "code",
      "source": [
        "#Check for the equality of variance\n",
        "variance_before = [np.var(class_data[label][' Blood Pressure Before (mmHg)']) for label in class_labels]\n",
        "p_value = stats.bartlett(*[class_data[label][' Blood Pressure Before (mmHg)'] for label in class_labels])[1]\n",
        "if p_value < 0.05:\n",
        "    print(\"The variances of the classes for 'Blood Pressure Before' are not equal.\")\n",
        "else:\n",
        "    print(\"The variances of the classes for 'Blood Pressure Before' are equal.\")\n",
        "\n",
        "variance_after = [np.var(class_data[label][' Blood Pressure After (mmHg)']) for label in class_labels]\n",
        "p_value = stats.bartlett(*[class_data[label][' Blood Pressure After (mmHg)'] for label in class_labels])[1]\n",
        "if p_value < 0.05:\n",
        "    print(\"The variances of the classes for 'Blood Pressure After' are not equal.\")\n",
        "else:\n",
        "    print(\"The variances of the classes for 'Blood Pressure After' are equal.\")"
      ],
      "metadata": {
        "colab": {
          "base_uri": "https://localhost:8080/"
        },
        "id": "Z7NLmgFLJPM9",
        "outputId": "894a07d9-2d90-4ac4-e4bf-24502640e014"
      },
      "execution_count": 9,
      "outputs": [
        {
          "output_type": "stream",
          "name": "stdout",
          "text": [
            "The variances of the classes for 'Blood Pressure Before' are equal.\n",
            "The variances of the classes for 'Blood Pressure After' are equal.\n"
          ]
        },
        {
          "output_type": "stream",
          "name": "stderr",
          "text": [
            "/usr/local/lib/python3.10/dist-packages/scipy/stats/_morestats.py:2574: RuntimeWarning: divide by zero encountered in true_divide\n",
            "  denom = 1.0 + 1.0/(3*(k - 1)) * ((np.sum(1.0/(Ni - 1.0), axis=0)) -\n",
            "/usr/local/lib/python3.10/dist-packages/scipy/stats/_morestats.py:2575: RuntimeWarning: divide by zero encountered in double_scalars\n",
            "  1.0/(Ntot - k))\n",
            "/usr/local/lib/python3.10/dist-packages/scipy/stats/_morestats.py:2574: RuntimeWarning: invalid value encountered in double_scalars\n",
            "  denom = 1.0 + 1.0/(3*(k - 1)) * ((np.sum(1.0/(Ni - 1.0), axis=0)) -\n"
          ]
        }
      ]
    },
    {
      "cell_type": "markdown",
      "source": [
        "# (c). Which amount LDA and QDA would perform better on this data forclassification and why."
      ],
      "metadata": {
        "id": "dAcrROw-KCTW"
      }
    },
    {
      "cell_type": "code",
      "source": [
        "#Determine which amount LDA and QDA would perform better for classification\n",
        "lda_scores = {}\n",
        "qda_scores = {}\n",
        "\n",
        "for label in class_labels:\n",
        "    class_samples_before = class_data[label][' Blood Pressure Before (mmHg)']\n",
        "    class_samples_after = class_data[label][' Blood Pressure After (mmHg)']\n",
        "    lda_scores[label] = np.mean(class_samples_before) + np.mean(class_samples_after)\n",
        "    qda_scores[label] = np.mean(np.square(class_samples_before - np.mean(class_samples_before))) + \\\n",
        "                         np.mean(np.square(class_samples_after - np.mean(class_samples_after)))\n",
        "\n",
        "if np.mean(list(lda_scores.values())) > np.mean(list(qda_scores.values())):\n",
        "    print(\"LDA would perform better for classification.\")\n",
        "else:\n",
        "    print(\"QDA would perform better for classification.\")"
      ],
      "metadata": {
        "colab": {
          "base_uri": "https://localhost:8080/"
        },
        "id": "nhW2g-TzKHQu",
        "outputId": "287b0cac-64d3-4c98-fa70-cc0c4d4ec4ac"
      },
      "execution_count": 10,
      "outputs": [
        {
          "output_type": "stream",
          "name": "stdout",
          "text": [
            "LDA would perform better for classification.\n"
          ]
        }
      ]
    },
    {
      "cell_type": "markdown",
      "source": [
        "# (d). Check the equality of mean for between all the classes."
      ],
      "metadata": {
        "id": "Y0aXwSHoKQ4u"
      }
    },
    {
      "cell_type": "code",
      "source": [
        "#Check the equality of mean between all the classes\n",
        "p_value = stats.f_oneway(*[class_data[label][' Blood Pressure Before (mmHg)'] for label in class_labels])[1]\n",
        "if p_value < 0.05:\n",
        "    print(\"The means of the classes for 'Blood Pressure Before' are not equal.\")\n",
        "else:\n",
        "    print(\"The means of the classes for 'Blood Pressure Before' are equal.\")\n",
        "\n",
        "p_value = stats.f_oneway(*[class_data[label][' Blood Pressure After (mmHg)'] for label in class_labels])[1]\n",
        "if p_value < 0.05:\n",
        "    print(\"The means of the classes for 'Blood Pressure After' are not equal.\")\n",
        "else:\n",
        "    print(\"The means of the classes for 'Blood Pressure After' are equal.\")"
      ],
      "metadata": {
        "colab": {
          "base_uri": "https://localhost:8080/"
        },
        "id": "e8vklI9dKYRu",
        "outputId": "e86e45fc-ad39-4492-a18a-dd834339a73e"
      },
      "execution_count": 11,
      "outputs": [
        {
          "output_type": "stream",
          "name": "stdout",
          "text": [
            "The means of the classes for 'Blood Pressure Before' are equal.\n",
            "The means of the classes for 'Blood Pressure After' are equal.\n"
          ]
        },
        {
          "output_type": "stream",
          "name": "stderr",
          "text": [
            "/usr/local/lib/python3.10/dist-packages/scipy/stats/_stats_py.py:3869: DegenerateDataWarning: all input arrays have length 1.  f_oneway requires that at least one input has length greater than 1.\n",
            "  warnings.warn(stats.DegenerateDataWarning(msg))\n"
          ]
        }
      ]
    }
  ]
}